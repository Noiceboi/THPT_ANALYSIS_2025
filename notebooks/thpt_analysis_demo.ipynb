{
 "cells": [
  {
   "cell_type": "markdown",
   "id": "e4433d99",
   "metadata": {},
   "source": [
    "# 📊 Nghiên cứu So sánh các Tổ hợp Môn trong Kỳ thi THPT\n",
    "\n",
    "## 🎯 Mục tiêu nghiên cứu\n",
    "\n",
    "Đây là notebook phân tích chuyên sâu về **sự khác biệt giữa các tổ hợp môn** trong kỳ thi xét tuyển THPT quốc gia. Chúng ta sẽ:\n",
    "\n",
    "1. **Thu thập dữ liệu triệt để** từ các nguồn chính thức\n",
    "2. **Phân tích so sánh** các khía cạnh:\n",
    "   - Độ khó và tính phân hóa của từng tổ hợp\n",
    "   - Xu hướng biến thiên theo thời gian (2018-2024)\n",
    "   - Sự khác biệt giữa các vùng miền\n",
    "   - Hiệu quả tuyển sinh và cơ hội trúng tuyển\n",
    "\n",
    "## 📋 Bộ khung nghiên cứu\n",
    "\n",
    "### Câu hỏi nghiên cứu chính:\n",
    "- **RQ1**: Các tổ hợp môn khác nhau như thế nào về độ khó và tính phân hóa?\n",
    "- **RQ2**: Xu hướng điểm chuẩn của các tổ hợp thay đổi ra sao qua các năm?\n",
    "- **RQ3**: Có sự khác biệt có ý nghĩa thống kê giữa các vùng miền không?\n",
    "- **RQ4**: Tổ hợp nào có hiệu quả tuyển sinh tốt nhất?\n",
    "\n",
    "### Tiêu chí đánh giá:\n",
    "- **Độ khó**: Điểm trung bình, độ lệch chuẩn\n",
    "- **Tính phân hóa**: Phân bố điểm, tỷ lệ đạt ngưỡng\n",
    "- **Cạnh tranh**: Điểm chuẩn, tỷ lệ chỉ tiêu/thí sinh\n",
    "- **Xu hướng**: Hồi quy tuyến tính, kiểm định thống kê"
   ]
  },
  {
   "cell_type": "markdown",
   "id": "8aa02110",
   "metadata": {},
   "source": [
    "## 🛠️ Cài đặt Môi trường và Import Thư viện\n",
    "\n",
    "Trước tiên, chúng ta cần cài đặt và import các thư viện cần thiết cho phân tích dữ liệu và trực quan hóa."
   ]
  },
  {
   "cell_type": "code",
   "execution_count": 1,
   "id": "1d661486",
   "metadata": {},
   "outputs": [
    {
     "name": "stdout",
     "output_type": "stream",
     "text": [
      "✅ Đã import thành công tất cả thư viện cần thiết!\n",
      "📍 Python version: 3.9.6 (tags/v3.9.6:db3ff76, Jun 28 2021, 15:26:21) [MSC v.1929 64 bit (AMD64)]\n",
      "📍 Pandas version: 2.3.0+4.g1dfc98e16a\n",
      "📍 Working directory: c:\\Users\\pc\\Documents\\THPT_Analysis_Project\\notebooks\n",
      "🔍 Kiểm tra thư mục THPT_ANALYSIS...\n",
      "📍 Đường dẫn: e:\\THPT_Analysis\n",
      "✅ Thư mục đã tồn tại!\n",
      "✅ Có quyền ghi vào thư mục\n",
      "📄 Số file/thư mục hiện tại: 0\n",
      "   (Thư mục trống)\n"
     ]
    }
   ],
   "source": [
    "# Import các thư viện cần thiết\n",
    "import sys\n",
    "import os\n",
    "import pandas as pd\n",
    "import numpy as np\n",
    "import matplotlib.pyplot as plt\n",
    "import seaborn as sns\n",
    "import plotly.express as px\n",
    "import plotly.graph_objects as go\n",
    "from plotly.subplots import make_subplots\n",
    "import sqlite3\n",
    "from scipy import stats\n",
    "from sklearn.preprocessing import StandardScaler\n",
    "from sklearn.cluster import KMeans\n",
    "import warnings\n",
    "warnings.filterwarnings('ignore')\n",
    "\n",
    "# Cấu hình hiển thị\n",
    "plt.rcParams['figure.figsize'] = (12, 8)\n",
    "plt.rcParams['font.size'] = 12\n",
    "sns.set_style(\"whitegrid\")\n",
    "pd.set_option('display.max_columns', None)\n",
    "pd.set_option('display.width', None)\n",
    "\n",
    "# Thêm đường dẫn src vào Python path\n",
    "sys.path.append('../src')\n",
    "\n",
    "print(\"✅ Đã import thành công tất cả thư viện cần thiết!\")\n",
    "print(f\"📍 Python version: {sys.version}\")\n",
    "print(f\"📍 Pandas version: {pd.__version__}\")\n",
    "print(f\"📍 Working directory: {os.getcwd()}\")\n",
    "\n",
    "# Đường dẫn đến thư mục THPT_ANALYSIS\n",
    "thpt_analysis_path = r\"e:\\THPT_Analysis\"\n",
    "\n",
    "print(\"🔍 Kiểm tra thư mục THPT_ANALYSIS...\")\n",
    "print(f\"📍 Đường dẫn: {thpt_analysis_path}\")\n",
    "\n",
    "# Kiểm tra sự tồn tại\n",
    "if os.path.exists(thpt_analysis_path):\n",
    "    print(\"✅ Thư mục đã tồn tại!\")\n",
    "    \n",
    "    # Kiểm tra quyền ghi\n",
    "    if os.access(thpt_analysis_path, os.W_OK):\n",
    "        print(\"✅ Có quyền ghi vào thư mục\")\n",
    "    else:\n",
    "        print(\"❌ Không có quyền ghi vào thư mục\")\n",
    "        \n",
    "    # Liệt kê nội dung hiện tại\n",
    "    try:\n",
    "        files = os.listdir(thpt_analysis_path)\n",
    "        print(f\"📄 Số file/thư mục hiện tại: {len(files)}\")\n",
    "        if files:\n",
    "            for file in files[:5]:  # Hiển thị tối đa 5 file\n",
    "                print(f\"   - {file}\")\n",
    "            if len(files) > 5:\n",
    "                print(f\"   ... và {len(files) - 5} file khác\")\n",
    "        else:\n",
    "            print(\"   (Thư mục trống)\")\n",
    "    except PermissionError:\n",
    "        print(\"❌ Không có quyền đọc thư mục\")\n",
    "        \n",
    "else:\n",
    "    print(\"❌ Thư mục chưa tồn tại!\")\n",
    "    print(\"🔧 Đang thử tạo thư mục...\")\n",
    "    \n",
    "    try:\n",
    "        os.makedirs(thpt_analysis_path, exist_ok=True)\n",
    "        print(\"✅ Đã tạo thư mục thành công!\")\n",
    "    except Exception as e:\n",
    "        print(f\"❌ Lỗi khi tạo thư mục: {e}\")\n",
    "        print(\"💡 Gợi ý: Chạy với quyền Administrator hoặc chọn thư mục khác\")"
   ]
  },
  {
   "cell_type": "markdown",
   "id": "9b6b5f16",
   "metadata": {},
   "source": [
    "## 📥 Bước 1: Thu thập Dữ liệu Triệt để\n",
    "\n",
    "Chúng ta sẽ sử dụng module `data_scraper.py` để thu thập dữ liệu từ các nguồn chính thức về:\n",
    "- **Thông tin tổ hợp môn**: Danh sách các tổ hợp, môn học, mô tả\n",
    "- **Điểm chuẩn**: Theo trường, ngành, tổ hợp từ 2018-2024  \n",
    "- **Phổ điểm**: Phân bố điểm thi của từng tổ hợp môn"
   ]
  },
  {
   "cell_type": "code",
   "execution_count": 2,
   "id": "3794c673",
   "metadata": {},
   "outputs": [
    {
     "name": "stderr",
     "output_type": "stream",
     "text": [
      "2025-06-28 10:52:05,929 - INFO - Bắt đầu thu thập dữ liệu THPT đầy đủ...\n",
      "2025-06-28 10:52:05,930 - INFO - Đang thu thập thông tin các tổ hợp môn...\n",
      "2025-06-28 10:52:05,934 - INFO - Đã thu thập thông tin 8 tổ hợp môn\n",
      "2025-06-28 10:52:05,938 - INFO - Đang lưu 8 bản ghi vào bảng to_hop_mon...\n",
      "2025-06-28 10:52:05,960 - INFO - Đã lưu thành công vào data/thpt_data.db\n",
      "2025-06-28 10:52:05,977 - INFO - Đã lưu 8 bản ghi vào data/raw\\to_hop_mon.csv\n",
      "2025-06-28 10:52:05,979 - INFO - Đang tạo dữ liệu điểm chuẩn mẫu cho năm 2018-2024...\n",
      "2025-06-28 10:52:05,992 - INFO - Đã tạo 210 bản ghi điểm chuẩn mẫu\n",
      "2025-06-28 10:52:05,994 - INFO - Đang lưu 210 bản ghi vào bảng diem_chuan...\n",
      "2025-06-28 10:52:06,011 - INFO - Đã lưu thành công vào data/thpt_data.db\n",
      "2025-06-28 10:52:06,017 - INFO - Đã lưu 210 bản ghi vào data/raw\\diem_chuan.csv\n",
      "2025-06-28 10:52:06,020 - INFO - Đang tạo dữ liệu phổ điểm mẫu cho năm 2018-2024...\n",
      "2025-06-28 10:52:06,027 - INFO - Đã tạo 56 bản ghi phổ điểm mẫu\n",
      "2025-06-28 10:52:06,029 - INFO - Đang lưu 56 bản ghi vào bảng pho_diem...\n",
      "2025-06-28 10:52:06,046 - INFO - Đã lưu thành công vào data/thpt_data.db\n",
      "2025-06-28 10:52:06,050 - INFO - Đã lưu 56 bản ghi vào data/raw\\pho_diem.csv\n",
      "2025-06-28 10:52:06,051 - INFO - Hoàn thành thu thập dữ liệu!\n"
     ]
    },
    {
     "name": "stdout",
     "output_type": "stream",
     "text": [
      "🚀 Khởi tạo THPT Data Scraper...\n",
      "📊 Bắt đầu thu thập dữ liệu từ 2018-2024...\n",
      "\n",
      "✅ Hoàn thành thu thập dữ liệu!\n",
      "📈 Tổ hợp môn: 8 bản ghi\n",
      "📊 Điểm chuẩn: 210 bản ghi\n",
      "📉 Phổ điểm: 56 bản ghi\n",
      "\n",
      "🔍 Mẫu dữ liệu tổ hợp môn:\n"
     ]
    },
    {
     "data": {
      "text/html": [
       "<div>\n",
       "<style scoped>\n",
       "    .dataframe tbody tr th:only-of-type {\n",
       "        vertical-align: middle;\n",
       "    }\n",
       "\n",
       "    .dataframe tbody tr th {\n",
       "        vertical-align: top;\n",
       "    }\n",
       "\n",
       "    .dataframe thead th {\n",
       "        text-align: right;\n",
       "    }\n",
       "</style>\n",
       "<table border=\"1\" class=\"dataframe\">\n",
       "  <thead>\n",
       "    <tr style=\"text-align: right;\">\n",
       "      <th></th>\n",
       "      <th>ma_to_hop</th>\n",
       "      <th>mon_1</th>\n",
       "      <th>mon_2</th>\n",
       "      <th>mon_3</th>\n",
       "      <th>loai_to_hop</th>\n",
       "      <th>mo_ta</th>\n",
       "      <th>ngay_cap_nhat</th>\n",
       "    </tr>\n",
       "  </thead>\n",
       "  <tbody>\n",
       "    <tr>\n",
       "      <th>0</th>\n",
       "      <td>A00</td>\n",
       "      <td>Toán</td>\n",
       "      <td>Vật lý</td>\n",
       "      <td>Hóa học</td>\n",
       "      <td>Khối tự nhiên</td>\n",
       "      <td>Phù hợp với các ngành kỹ thuật, công nghệ</td>\n",
       "      <td>2025-06-28</td>\n",
       "    </tr>\n",
       "    <tr>\n",
       "      <th>1</th>\n",
       "      <td>A01</td>\n",
       "      <td>Toán</td>\n",
       "      <td>Vật lý</td>\n",
       "      <td>Tiếng Anh</td>\n",
       "      <td>Khối tự nhiên + ngoại ngữ</td>\n",
       "      <td>Phù hợp với công nghệ thông tin, kỹ thuật quốc tế</td>\n",
       "      <td>2025-06-28</td>\n",
       "    </tr>\n",
       "    <tr>\n",
       "      <th>2</th>\n",
       "      <td>B00</td>\n",
       "      <td>Toán</td>\n",
       "      <td>Hóa học</td>\n",
       "      <td>Sinh học</td>\n",
       "      <td>Khối tự nhiên</td>\n",
       "      <td>Phù hợp với y-dược, nông-lâm-ngư</td>\n",
       "      <td>2025-06-28</td>\n",
       "    </tr>\n",
       "    <tr>\n",
       "      <th>3</th>\n",
       "      <td>B01</td>\n",
       "      <td>Toán</td>\n",
       "      <td>Sinh học</td>\n",
       "      <td>Tiếng Anh</td>\n",
       "      <td>Khối tự nhiên + ngoại ngữ</td>\n",
       "      <td>Phù hợp với y học quốc tế, công nghệ sinh học</td>\n",
       "      <td>2025-06-28</td>\n",
       "    </tr>\n",
       "    <tr>\n",
       "      <th>4</th>\n",
       "      <td>C00</td>\n",
       "      <td>Văn</td>\n",
       "      <td>Sử</td>\n",
       "      <td>Địa</td>\n",
       "      <td>Khối xã hội</td>\n",
       "      <td>Phù hợp với luật, báo chí, quan hệ quốc tế</td>\n",
       "      <td>2025-06-28</td>\n",
       "    </tr>\n",
       "  </tbody>\n",
       "</table>\n",
       "</div>"
      ],
      "text/plain": [
       "  ma_to_hop mon_1     mon_2      mon_3                loai_to_hop  \\\n",
       "0       A00  Toán    Vật lý    Hóa học              Khối tự nhiên   \n",
       "1       A01  Toán    Vật lý  Tiếng Anh  Khối tự nhiên + ngoại ngữ   \n",
       "2       B00  Toán   Hóa học   Sinh học              Khối tự nhiên   \n",
       "3       B01  Toán  Sinh học  Tiếng Anh  Khối tự nhiên + ngoại ngữ   \n",
       "4       C00   Văn        Sử        Địa                Khối xã hội   \n",
       "\n",
       "                                               mo_ta ngay_cap_nhat  \n",
       "0          Phù hợp với các ngành kỹ thuật, công nghệ    2025-06-28  \n",
       "1  Phù hợp với công nghệ thông tin, kỹ thuật quốc tế    2025-06-28  \n",
       "2                   Phù hợp với y-dược, nông-lâm-ngư    2025-06-28  \n",
       "3      Phù hợp với y học quốc tế, công nghệ sinh học    2025-06-28  \n",
       "4         Phù hợp với luật, báo chí, quan hệ quốc tế    2025-06-28  "
      ]
     },
     "metadata": {},
     "output_type": "display_data"
    },
    {
     "name": "stdout",
     "output_type": "stream",
     "text": [
      "\n",
      "🔍 Mẫu dữ liệu điểm chuẩn:\n"
     ]
    },
    {
     "data": {
      "text/html": [
       "<div>\n",
       "<style scoped>\n",
       "    .dataframe tbody tr th:only-of-type {\n",
       "        vertical-align: middle;\n",
       "    }\n",
       "\n",
       "    .dataframe tbody tr th {\n",
       "        vertical-align: top;\n",
       "    }\n",
       "\n",
       "    .dataframe thead th {\n",
       "        text-align: right;\n",
       "    }\n",
       "</style>\n",
       "<table border=\"1\" class=\"dataframe\">\n",
       "  <thead>\n",
       "    <tr style=\"text-align: right;\">\n",
       "      <th></th>\n",
       "      <th>nam</th>\n",
       "      <th>truong</th>\n",
       "      <th>nganh</th>\n",
       "      <th>ma_to_hop</th>\n",
       "      <th>diem_chuan</th>\n",
       "      <th>chi_tieu</th>\n",
       "      <th>vung_mien</th>\n",
       "      <th>ngay_cap_nhat</th>\n",
       "    </tr>\n",
       "  </thead>\n",
       "  <tbody>\n",
       "    <tr>\n",
       "      <th>0</th>\n",
       "      <td>2018</td>\n",
       "      <td>Đại học Bách khoa Hà Nội</td>\n",
       "      <td>Sư phạm Toán</td>\n",
       "      <td>C01</td>\n",
       "      <td>21.88</td>\n",
       "      <td>100</td>\n",
       "      <td>Miền Bắc</td>\n",
       "      <td>2025-06-28</td>\n",
       "    </tr>\n",
       "    <tr>\n",
       "      <th>1</th>\n",
       "      <td>2018</td>\n",
       "      <td>Đại học Bách khoa Hà Nội</td>\n",
       "      <td>Quản trị kinh doanh</td>\n",
       "      <td>D02</td>\n",
       "      <td>29.04</td>\n",
       "      <td>342</td>\n",
       "      <td>Miền Bắc</td>\n",
       "      <td>2025-06-28</td>\n",
       "    </tr>\n",
       "    <tr>\n",
       "      <th>2</th>\n",
       "      <td>2018</td>\n",
       "      <td>Đại học Bách khoa Hà Nội</td>\n",
       "      <td>Kinh tế</td>\n",
       "      <td>A00</td>\n",
       "      <td>23.61</td>\n",
       "      <td>181</td>\n",
       "      <td>Miền Bắc</td>\n",
       "      <td>2025-06-28</td>\n",
       "    </tr>\n",
       "    <tr>\n",
       "      <th>3</th>\n",
       "      <td>2018</td>\n",
       "      <td>Đại học Quốc gia Hà Nội</td>\n",
       "      <td>Công nghệ thông tin</td>\n",
       "      <td>C01</td>\n",
       "      <td>26.93</td>\n",
       "      <td>210</td>\n",
       "      <td>Miền Bắc</td>\n",
       "      <td>2025-06-28</td>\n",
       "    </tr>\n",
       "    <tr>\n",
       "      <th>4</th>\n",
       "      <td>2018</td>\n",
       "      <td>Đại học Quốc gia Hà Nội</td>\n",
       "      <td>Sư phạm Toán</td>\n",
       "      <td>C00</td>\n",
       "      <td>28.52</td>\n",
       "      <td>347</td>\n",
       "      <td>Miền Bắc</td>\n",
       "      <td>2025-06-28</td>\n",
       "    </tr>\n",
       "  </tbody>\n",
       "</table>\n",
       "</div>"
      ],
      "text/plain": [
       "    nam                    truong                nganh ma_to_hop  diem_chuan  \\\n",
       "0  2018  Đại học Bách khoa Hà Nội         Sư phạm Toán       C01       21.88   \n",
       "1  2018  Đại học Bách khoa Hà Nội  Quản trị kinh doanh       D02       29.04   \n",
       "2  2018  Đại học Bách khoa Hà Nội              Kinh tế       A00       23.61   \n",
       "3  2018   Đại học Quốc gia Hà Nội  Công nghệ thông tin       C01       26.93   \n",
       "4  2018   Đại học Quốc gia Hà Nội         Sư phạm Toán       C00       28.52   \n",
       "\n",
       "   chi_tieu vung_mien ngay_cap_nhat  \n",
       "0       100  Miền Bắc    2025-06-28  \n",
       "1       342  Miền Bắc    2025-06-28  \n",
       "2       181  Miền Bắc    2025-06-28  \n",
       "3       210  Miền Bắc    2025-06-28  \n",
       "4       347  Miền Bắc    2025-06-28  "
      ]
     },
     "metadata": {},
     "output_type": "display_data"
    },
    {
     "name": "stdout",
     "output_type": "stream",
     "text": [
      "\n",
      "🔍 Mẫu dữ liệu phổ điểm:\n"
     ]
    },
    {
     "data": {
      "text/html": [
       "<div>\n",
       "<style scoped>\n",
       "    .dataframe tbody tr th:only-of-type {\n",
       "        vertical-align: middle;\n",
       "    }\n",
       "\n",
       "    .dataframe tbody tr th {\n",
       "        vertical-align: top;\n",
       "    }\n",
       "\n",
       "    .dataframe thead th {\n",
       "        text-align: right;\n",
       "    }\n",
       "</style>\n",
       "<table border=\"1\" class=\"dataframe\">\n",
       "  <thead>\n",
       "    <tr style=\"text-align: right;\">\n",
       "      <th></th>\n",
       "      <th>nam</th>\n",
       "      <th>ma_to_hop</th>\n",
       "      <th>diem_trung_binh</th>\n",
       "      <th>do_lech_chuan</th>\n",
       "      <th>diem_cao_nhat</th>\n",
       "      <th>diem_thap_nhat</th>\n",
       "      <th>so_thi_sinh</th>\n",
       "      <th>ty_le_dat</th>\n",
       "      <th>ngay_cap_nhat</th>\n",
       "    </tr>\n",
       "  </thead>\n",
       "  <tbody>\n",
       "    <tr>\n",
       "      <th>0</th>\n",
       "      <td>2018</td>\n",
       "      <td>A00</td>\n",
       "      <td>7.21</td>\n",
       "      <td>1.34</td>\n",
       "      <td>11.24</td>\n",
       "      <td>3.19</td>\n",
       "      <td>58304</td>\n",
       "      <td>74.3</td>\n",
       "      <td>2025-06-28</td>\n",
       "    </tr>\n",
       "    <tr>\n",
       "      <th>1</th>\n",
       "      <td>2018</td>\n",
       "      <td>A01</td>\n",
       "      <td>6.67</td>\n",
       "      <td>1.53</td>\n",
       "      <td>11.26</td>\n",
       "      <td>2.09</td>\n",
       "      <td>140382</td>\n",
       "      <td>66.5</td>\n",
       "      <td>2025-06-28</td>\n",
       "    </tr>\n",
       "    <tr>\n",
       "      <th>2</th>\n",
       "      <td>2018</td>\n",
       "      <td>B00</td>\n",
       "      <td>6.23</td>\n",
       "      <td>1.95</td>\n",
       "      <td>12.09</td>\n",
       "      <td>0.38</td>\n",
       "      <td>67021</td>\n",
       "      <td>60.0</td>\n",
       "      <td>2025-06-28</td>\n",
       "    </tr>\n",
       "    <tr>\n",
       "      <th>3</th>\n",
       "      <td>2018</td>\n",
       "      <td>B01</td>\n",
       "      <td>6.89</td>\n",
       "      <td>1.44</td>\n",
       "      <td>11.21</td>\n",
       "      <td>2.58</td>\n",
       "      <td>78555</td>\n",
       "      <td>90.1</td>\n",
       "      <td>2025-06-28</td>\n",
       "    </tr>\n",
       "    <tr>\n",
       "      <th>4</th>\n",
       "      <td>2018</td>\n",
       "      <td>C00</td>\n",
       "      <td>6.43</td>\n",
       "      <td>2.26</td>\n",
       "      <td>13.21</td>\n",
       "      <td>0.00</td>\n",
       "      <td>75836</td>\n",
       "      <td>81.2</td>\n",
       "      <td>2025-06-28</td>\n",
       "    </tr>\n",
       "  </tbody>\n",
       "</table>\n",
       "</div>"
      ],
      "text/plain": [
       "    nam ma_to_hop  diem_trung_binh  do_lech_chuan  diem_cao_nhat  \\\n",
       "0  2018       A00             7.21           1.34          11.24   \n",
       "1  2018       A01             6.67           1.53          11.26   \n",
       "2  2018       B00             6.23           1.95          12.09   \n",
       "3  2018       B01             6.89           1.44          11.21   \n",
       "4  2018       C00             6.43           2.26          13.21   \n",
       "\n",
       "   diem_thap_nhat  so_thi_sinh  ty_le_dat ngay_cap_nhat  \n",
       "0            3.19        58304       74.3    2025-06-28  \n",
       "1            2.09       140382       66.5    2025-06-28  \n",
       "2            0.38        67021       60.0    2025-06-28  \n",
       "3            2.58        78555       90.1    2025-06-28  \n",
       "4            0.00        75836       81.2    2025-06-28  "
      ]
     },
     "metadata": {},
     "output_type": "display_data"
    }
   ],
   "source": [
    "# Import module thu thập dữ liệu\n",
    "from data_scraper import THPTDataScraper\n",
    "\n",
    "# Khởi tạo scraper\n",
    "print(\"🚀 Khởi tạo THPT Data Scraper...\")\n",
    "scraper = THPTDataScraper()\n",
    "\n",
    "# Thu thập dữ liệu đầy đủ từ 2018-2024\n",
    "print(\"📊 Bắt đầu thu thập dữ liệu từ 2018-2024...\")\n",
    "data = scraper.run_full_scrape(year_range=(2018, 2024))\n",
    "\n",
    "print(f\"\\n✅ Hoàn thành thu thập dữ liệu!\")\n",
    "print(f\"📈 Tổ hợp môn: {len(data['to_hop_mon'])} bản ghi\")\n",
    "print(f\"📊 Điểm chuẩn: {len(data['diem_chuan'])} bản ghi\")\n",
    "print(f\"📉 Phổ điểm: {len(data['pho_diem'])} bản ghi\")\n",
    "\n",
    "# Hiển thị mẫu dữ liệu\n",
    "print(\"\\n🔍 Mẫu dữ liệu tổ hợp môn:\")\n",
    "display(data['to_hop_mon'].head())\n",
    "\n",
    "print(\"\\n🔍 Mẫu dữ liệu điểm chuẩn:\")\n",
    "display(data['diem_chuan'].head())\n",
    "\n",
    "print(\"\\n🔍 Mẫu dữ liệu phổ điểm:\")\n",
    "display(data['pho_diem'].head())"
   ]
  },
  {
   "cell_type": "markdown",
   "id": "15048219",
   "metadata": {},
   "source": [
    "## 🔍 Bước 2: Phân tích Chuyên sâu các Tổ hợp Môn\n",
    "\n",
    "Bây giờ chúng ta sẽ thực hiện các phân tích so sánh chuyên sâu để trả lời các câu hỏi nghiên cứu."
   ]
  },
  {
   "cell_type": "code",
   "execution_count": 4,
   "id": "c33ada42",
   "metadata": {},
   "outputs": [
    {
     "name": "stderr",
     "output_type": "stream",
     "text": [
      "2025-06-28 10:55:09,054 - INFO - Bắt đầu phân tích dữ liệu THPT đầy đủ...\n",
      "2025-06-28 10:55:09,056 - INFO - Đang tải dữ liệu từ database...\n",
      "2025-06-28 10:55:09,069 - INFO - Đã tải 3 bảng dữ liệu\n",
      "2025-06-28 10:55:09,071 - INFO -   - to_hop_mon: 8 bản ghi\n",
      "2025-06-28 10:55:09,072 - INFO -   - diem_chuan: 210 bản ghi\n",
      "2025-06-28 10:55:09,074 - INFO -   - pho_diem: 56 bản ghi\n",
      "2025-06-28 10:55:09,076 - INFO - Đang phân tích độ phổ biến tổ hợp môn...\n",
      "2025-06-28 10:55:09,134 - INFO - Hoàn thành phân tích độ phổ biến\n",
      "2025-06-28 10:55:09,136 - INFO - Đang phân tích xu hướng điểm chuẩn...\n"
     ]
    },
    {
     "name": "stdout",
     "output_type": "stream",
     "text": [
      "🔬 Khởi tạo THPT Data Analyzer...\n",
      "📊 Bắt đầu phân tích toàn diện...\n"
     ]
    },
    {
     "name": "stderr",
     "output_type": "stream",
     "text": [
      "2025-06-28 10:55:09,240 - INFO - Hoàn thành phân tích xu hướng\n",
      "2025-06-28 10:55:09,246 - INFO - Đang phân tích sự khác biệt vùng miền...\n",
      "2025-06-28 10:55:09,325 - INFO - Hoàn thành phân tích vùng miền\n",
      "2025-06-28 10:55:09,330 - INFO - Đang phân tích độ khó tổ hợp môn...\n",
      "2025-06-28 10:55:09,360 - INFO - Hoàn thành phân tích độ khó\n",
      "2025-06-28 10:55:09,364 - INFO - Đang thực hiện phân cụm tổ hợp môn...\n",
      "2025-06-28 10:55:09,765 - INFO - Hoàn thành phân cụm\n",
      "2025-06-28 10:55:09,788 - INFO - Đang tạo báo cáo tổng quan...\n",
      "2025-06-28 10:55:09,803 - INFO - Đang phân tích độ phổ biến tổ hợp môn...\n",
      "2025-06-28 10:55:09,819 - INFO - Hoàn thành phân tích độ phổ biến\n",
      "2025-06-28 10:55:09,821 - INFO - Đang phân tích xu hướng điểm chuẩn...\n",
      "2025-06-28 10:55:09,846 - INFO - Hoàn thành phân tích xu hướng\n",
      "2025-06-28 10:55:09,848 - INFO - Đang phân tích sự khác biệt vùng miền...\n",
      "2025-06-28 10:55:09,906 - INFO - Hoàn thành phân tích vùng miền\n",
      "2025-06-28 10:55:09,910 - INFO - Đang phân tích độ khó tổ hợp môn...\n",
      "2025-06-28 10:55:09,931 - INFO - Hoàn thành phân tích độ khó\n",
      "2025-06-28 10:55:09,932 - INFO - Đang thực hiện phân cụm tổ hợp môn...\n",
      "2025-06-28 10:55:09,953 - INFO - Hoàn thành phân cụm\n",
      "2025-06-28 10:55:09,987 - INFO - Đã tạo báo cáo tổng quan\n",
      "2025-06-28 10:55:09,989 - INFO - Hoàn thành phân tích đầy đủ!\n"
     ]
    },
    {
     "name": "stdout",
     "output_type": "stream",
     "text": [
      "✅ Hoàn thành phân tích!\n",
      "📋 Số loại phân tích: 5\n",
      "\n",
      "📁 Các kết quả phân tích:\n",
      "  - popularity: <class 'pandas.core.frame.DataFrame'>\n",
      "  - trends: <class 'tuple'>\n",
      "  - regional: <class 'tuple'>\n",
      "  - difficulty: <class 'pandas.core.frame.DataFrame'>\n",
      "  - clusters: <class 'pandas.core.frame.DataFrame'>\n",
      "\n",
      "============================================================\n",
      "📑 BÁO CÁO TÓM TẮT\n",
      "============================================================\n",
      "\n",
      "# BÁO CÁO PHÂN TÍCH DỮ LIỆU THPT\n",
      "Ngày tạo: 28/06/2025 10:55\n",
      "\n",
      "## 1. TỔNG QUAN DỮ LIỆU\n",
      "- Số tổ hợp môn: 8\n",
      "- Số bản ghi điểm chuẩn: 210\n",
      "- Số bản ghi phổ điểm: 56\n",
      "\n",
      "## 2. ĐỘ PHỔ BIẾN CỦA CÁC TỔ HỢP MÔN\n",
      "Top 3 tổ hợp được sử dụng nhiều nhất:\n",
      "ma_to_hop  so_nganh  tong_chi_tieu\n",
      "      A01        36          10716\n",
      "      C01        30           8675\n",
      "      A00        29           7839\n",
      "\n",
      "## 3. XU HƯỚNG ĐIỂM CHUẨN\n",
      "Các tổ hợp có xu hướng tăng điểm:\n",
      "ma_to_hop  xu_huong\n",
      "      A00  0.537702\n",
      "      B01  0.573571\n",
      "      C00  0.167714\n",
      "      D01  0.151786\n",
      "\n",
      "## 4. KHÁC BIỆT VÙNG MIỀN\n",
      "Số tổ hợp có sự khác biệt có ý nghĩa thống kê giữa Miền Bắc và Miền Nam:\n",
      "0 / 8\n",
      "\n",
      "## 5. XẾP HẠNG ĐỘ KHÓ\n",
      "Top 3 tổ hợp khó nhất:\n",
      "ma_to_hop muc_do_kho  hang_do_kho\n",
      "      B00        Khó          1.0\n",
      "      A01        Khó          2.0\n",
      "      D02 Trung bình          3.0\n",
      "\n",
      "## 6. PHÂN CỤM TỔ HỢP MÔN\n",
      "cluster_label\n",
      "Nhóm 1: Thi sinh nhiều, điểm TB                    [B00]\n",
      "Nhóm 2: Điểm cao, cạnh tranh             [C00, C01, D02]\n",
      "Nhóm 3: Điểm thấp, í...\n"
     ]
    }
   ],
   "source": [
    "# Import module phân tích dữ liệu\n",
    "from data_analyzer import THPTDataAnalyzer\n",
    "\n",
    "# Khởi tạo analyzer\n",
    "print(\"🔬 Khởi tạo THPT Data Analyzer...\")\n",
    "analyzer = THPTDataAnalyzer(db_path=\"data/thpt_data.db\")\n",
    "\n",
    "# Chạy phân tích đầy đủ\n",
    "print(\"📊 Bắt đầu phân tích toàn diện...\")\n",
    "results, report = analyzer.run_full_analysis()\n",
    "\n",
    "print(\"✅ Hoàn thành phân tích!\")\n",
    "print(f\"📋 Số loại phân tích: {len(results)}\")\n",
    "print(\"\\n📁 Các kết quả phân tích:\")\n",
    "for key in results.keys():\n",
    "    print(f\"  - {key}: {type(results[key])}\")\n",
    "    \n",
    "# Hiển thị báo cáo tóm tắt\n",
    "print(\"\\n\" + \"=\"*60)\n",
    "print(\"📑 BÁO CÁO TÓM TẮT\")\n",
    "print(\"=\"*60)\n",
    "print(report[:1000] + \"...\" if len(report) > 1000 else report)"
   ]
  },
  {
   "cell_type": "markdown",
   "id": "43be3782",
   "metadata": {},
   "source": [
    "### 📊 2.1. Phân tích Độ Phổ biến và Sử dụng của các Tổ hợp Môn\n",
    "\n",
    "**Câu hỏi**: Tổ hợp nào được sử dụng nhiều nhất? Tại sao?"
   ]
  },
  {
   "cell_type": "code",
   "execution_count": 5,
   "id": "d1e55911",
   "metadata": {},
   "outputs": [
    {
     "name": "stdout",
     "output_type": "stream",
     "text": [
      "🎯 TOP 5 TỔ HỢP ĐƯỢC SỬ DỤNG NHIỀU NHẤT:\n",
      "==================================================\n"
     ]
    },
    {
     "data": {
      "text/html": [
       "<div>\n",
       "<style scoped>\n",
       "    .dataframe tbody tr th:only-of-type {\n",
       "        vertical-align: middle;\n",
       "    }\n",
       "\n",
       "    .dataframe tbody tr th {\n",
       "        vertical-align: top;\n",
       "    }\n",
       "\n",
       "    .dataframe thead th {\n",
       "        text-align: right;\n",
       "    }\n",
       "</style>\n",
       "<table border=\"1\" class=\"dataframe\">\n",
       "  <thead>\n",
       "    <tr style=\"text-align: right;\">\n",
       "      <th></th>\n",
       "      <th>ma_to_hop</th>\n",
       "      <th>so_nganh</th>\n",
       "      <th>tong_chi_tieu</th>\n",
       "      <th>diem_chuan_tb</th>\n",
       "      <th>diem_chuan_std</th>\n",
       "    </tr>\n",
       "  </thead>\n",
       "  <tbody>\n",
       "    <tr>\n",
       "      <th>1</th>\n",
       "      <td>A01</td>\n",
       "      <td>36</td>\n",
       "      <td>10716</td>\n",
       "      <td>24.36</td>\n",
       "      <td>3.36</td>\n",
       "    </tr>\n",
       "    <tr>\n",
       "      <th>5</th>\n",
       "      <td>C01</td>\n",
       "      <td>30</td>\n",
       "      <td>8675</td>\n",
       "      <td>23.89</td>\n",
       "      <td>3.21</td>\n",
       "    </tr>\n",
       "    <tr>\n",
       "      <th>0</th>\n",
       "      <td>A00</td>\n",
       "      <td>29</td>\n",
       "      <td>7839</td>\n",
       "      <td>23.70</td>\n",
       "      <td>3.73</td>\n",
       "    </tr>\n",
       "    <tr>\n",
       "      <th>6</th>\n",
       "      <td>D01</td>\n",
       "      <td>28</td>\n",
       "      <td>8161</td>\n",
       "      <td>23.79</td>\n",
       "      <td>3.39</td>\n",
       "    </tr>\n",
       "    <tr>\n",
       "      <th>2</th>\n",
       "      <td>B00</td>\n",
       "      <td>24</td>\n",
       "      <td>6644</td>\n",
       "      <td>22.75</td>\n",
       "      <td>3.63</td>\n",
       "    </tr>\n",
       "  </tbody>\n",
       "</table>\n",
       "</div>"
      ],
      "text/plain": [
       "  ma_to_hop  so_nganh  tong_chi_tieu  diem_chuan_tb  diem_chuan_std\n",
       "1       A01        36          10716          24.36            3.36\n",
       "5       C01        30           8675          23.89            3.21\n",
       "0       A00        29           7839          23.70            3.73\n",
       "6       D01        28           8161          23.79            3.39\n",
       "2       B00        24           6644          22.75            3.63"
      ]
     },
     "metadata": {},
     "output_type": "display_data"
    },
    {
     "data": {
      "image/png": "[encoded data removed]",
      "text/plain": [
       "<Figure size 1600x600 with 2 Axes>"
      ]
     },
     "metadata": {},
     "output_type": "display_data"
    },
    {
     "name": "stdout",
     "output_type": "stream",
     "text": [
      "\n",
      "📈 MA TRẬN TƯƠNG QUAN:\n"
     ]
    },
    {
     "data": {
      "text/html": [
       "<div>\n",
       "<style scoped>\n",
       "    .dataframe tbody tr th:only-of-type {\n",
       "        vertical-align: middle;\n",
       "    }\n",
       "\n",
       "    .dataframe tbody tr th {\n",
       "        vertical-align: top;\n",
       "    }\n",
       "\n",
       "    .dataframe thead th {\n",
       "        text-align: right;\n",
       "    }\n",
       "</style>\n",
       "<table border=\"1\" class=\"dataframe\">\n",
       "  <thead>\n",
       "    <tr style=\"text-align: right;\">\n",
       "      <th></th>\n",
       "      <th>so_nganh</th>\n",
       "      <th>tong_chi_tieu</th>\n",
       "      <th>diem_chuan_tb</th>\n",
       "    </tr>\n",
       "  </thead>\n",
       "  <tbody>\n",
       "    <tr>\n",
       "      <th>so_nganh</th>\n",
       "      <td>1.000</td>\n",
       "      <td>0.941</td>\n",
       "      <td>0.745</td>\n",
       "    </tr>\n",
       "    <tr>\n",
       "      <th>tong_chi_tieu</th>\n",
       "      <td>0.941</td>\n",
       "      <td>1.000</td>\n",
       "      <td>0.600</td>\n",
       "    </tr>\n",
       "    <tr>\n",
       "      <th>diem_chuan_tb</th>\n",
       "      <td>0.745</td>\n",
       "      <td>0.600</td>\n",
       "      <td>1.000</td>\n",
       "    </tr>\n",
       "  </tbody>\n",
       "</table>\n",
       "</div>"
      ],
      "text/plain": [
       "               so_nganh  tong_chi_tieu  diem_chuan_tb\n",
       "so_nganh          1.000          0.941          0.745\n",
       "tong_chi_tieu     0.941          1.000          0.600\n",
       "diem_chuan_tb     0.745          0.600          1.000"
      ]
     },
     "metadata": {},
     "output_type": "display_data"
    }
   ],
   "source": [
    "# Lấy dữ liệu độ phổ biến\n",
    "popularity = results['popularity']\n",
    "\n",
    "print(\"🎯 TOP 5 TỔ HỢP ĐƯỢC SỬ DỤNG NHIỀU NHẤT:\")\n",
    "print(\"=\"*50)\n",
    "display(popularity.head())\n",
    "\n",
    "# Tạo biểu đồ độ phổ biến\n",
    "fig, (ax1, ax2) = plt.subplots(1, 2, figsize=(16, 6))\n",
    "\n",
    "# Biểu đồ số ngành theo tổ hợp\n",
    "popularity_sorted = popularity.sort_values('so_nganh', ascending=True)\n",
    "ax1.barh(popularity_sorted['ma_to_hop'], popularity_sorted['so_nganh'], \n",
    "         color='skyblue', edgecolor='navy', alpha=0.7)\n",
    "ax1.set_title('Số Ngành sử dụng theo Tổ hợp Môn', fontsize=14, fontweight='bold')\n",
    "ax1.set_xlabel('Số Ngành')\n",
    "ax1.set_ylabel('Mã Tổ hợp')\n",
    "ax1.grid(axis='x', alpha=0.3)\n",
    "\n",
    "# Biểu đồ tổng chỉ tiêu\n",
    "ax2.barh(popularity_sorted['ma_to_hop'], popularity_sorted['tong_chi_tieu'], \n",
    "         color='lightcoral', edgecolor='darkred', alpha=0.7)\n",
    "ax2.set_title('Tổng Chỉ tiêu theo Tổ hợp Môn', fontsize=14, fontweight='bold')\n",
    "ax2.set_xlabel('Tổng Chỉ tiêu')\n",
    "ax2.set_ylabel('Mã Tổ hợp')\n",
    "ax2.grid(axis='x', alpha=0.3)\n",
    "\n",
    "plt.tight_layout()\n",
    "plt.show()\n",
    "\n",
    "# Phân tích tương quan\n",
    "correlation = popularity[['so_nganh', 'tong_chi_tieu', 'diem_chuan_tb']].corr()\n",
    "print(\"\\n📈 MA TRẬN TƯƠNG QUAN:\")\n",
    "display(correlation.round(3))"
   ]
  },
  {
   "cell_type": "markdown",
   "id": "4d5e237d",
   "metadata": {},
   "source": [
    "### 📈 2.2. Phân tích Xu hướng Điểm chuẩn theo Thời gian (2018-2024)\n",
    "\n",
    "**Câu hỏi**: Điểm chuẩn của các tổ hợp thay đổi như thế nào qua các năm? Tổ hợp nào có xu hướng tăng/giảm mạnh?"
   ]
  },
  {
   "cell_type": "code",
   "execution_count": 6,
   "id": "c4d70492",
   "metadata": {},
   "outputs": [
    {
     "name": "stdout",
     "output_type": "stream",
     "text": [
      "📊 XU HƯỚNG ĐIỂM CHUẨN THEO THỜI GIAN:\n",
      "========================================\n"
     ]
    },
    {
     "data": {
      "text/html": [
       "<div>\n",
       "<style scoped>\n",
       "    .dataframe tbody tr th:only-of-type {\n",
       "        vertical-align: middle;\n",
       "    }\n",
       "\n",
       "    .dataframe tbody tr th {\n",
       "        vertical-align: top;\n",
       "    }\n",
       "\n",
       "    .dataframe thead th {\n",
       "        text-align: right;\n",
       "    }\n",
       "</style>\n",
       "<table border=\"1\" class=\"dataframe\">\n",
       "  <thead>\n",
       "    <tr style=\"text-align: right;\">\n",
       "      <th></th>\n",
       "      <th>ma_to_hop</th>\n",
       "      <th>xu_huong</th>\n",
       "      <th>r_squared</th>\n",
       "      <th>p_value</th>\n",
       "      <th>ket_luan</th>\n",
       "    </tr>\n",
       "  </thead>\n",
       "  <tbody>\n",
       "    <tr>\n",
       "      <th>3</th>\n",
       "      <td>B01</td>\n",
       "      <td>0.573571</td>\n",
       "      <td>0.624769</td>\n",
       "      <td>0.034374</td>\n",
       "      <td>Tăng</td>\n",
       "    </tr>\n",
       "    <tr>\n",
       "      <th>0</th>\n",
       "      <td>A00</td>\n",
       "      <td>0.537702</td>\n",
       "      <td>0.506608</td>\n",
       "      <td>0.112646</td>\n",
       "      <td>Tăng</td>\n",
       "    </tr>\n",
       "    <tr>\n",
       "      <th>4</th>\n",
       "      <td>C00</td>\n",
       "      <td>0.167714</td>\n",
       "      <td>0.067408</td>\n",
       "      <td>0.619304</td>\n",
       "      <td>Tăng</td>\n",
       "    </tr>\n",
       "    <tr>\n",
       "      <th>6</th>\n",
       "      <td>D01</td>\n",
       "      <td>0.151786</td>\n",
       "      <td>0.015273</td>\n",
       "      <td>0.791799</td>\n",
       "      <td>Tăng</td>\n",
       "    </tr>\n",
       "    <tr>\n",
       "      <th>1</th>\n",
       "      <td>A01</td>\n",
       "      <td>-0.145000</td>\n",
       "      <td>0.028785</td>\n",
       "      <td>0.716099</td>\n",
       "      <td>Giảm</td>\n",
       "    </tr>\n",
       "    <tr>\n",
       "      <th>5</th>\n",
       "      <td>C01</td>\n",
       "      <td>-0.149643</td>\n",
       "      <td>0.047767</td>\n",
       "      <td>0.637763</td>\n",
       "      <td>Giảm</td>\n",
       "    </tr>\n",
       "    <tr>\n",
       "      <th>7</th>\n",
       "      <td>D02</td>\n",
       "      <td>-0.986786</td>\n",
       "      <td>0.402194</td>\n",
       "      <td>0.126101</td>\n",
       "      <td>Giảm</td>\n",
       "    </tr>\n",
       "    <tr>\n",
       "      <th>2</th>\n",
       "      <td>B00</td>\n",
       "      <td>-1.223214</td>\n",
       "      <td>0.800127</td>\n",
       "      <td>0.006555</td>\n",
       "      <td>Giảm</td>\n",
       "    </tr>\n",
       "  </tbody>\n",
       "</table>\n",
       "</div>"
      ],
      "text/plain": [
       "  ma_to_hop  xu_huong  r_squared   p_value ket_luan\n",
       "3       B01  0.573571   0.624769  0.034374     Tăng\n",
       "0       A00  0.537702   0.506608  0.112646     Tăng\n",
       "4       C00  0.167714   0.067408  0.619304     Tăng\n",
       "6       D01  0.151786   0.015273  0.791799     Tăng\n",
       "1       A01 -0.145000   0.028785  0.716099     Giảm\n",
       "5       C01 -0.149643   0.047767  0.637763     Giảm\n",
       "7       D02 -0.986786   0.402194  0.126101     Giảm\n",
       "2       B00 -1.223214   0.800127  0.006555     Giảm"
      ]
     },
     "metadata": {},
     "output_type": "display_data"
    },
    {
     "data": {
      "application/vnd.plotly.v1+json": {
       "config": {
        "plotlyServerURL": "https://plot.ly"
       },
       "data": [
        {
         "line": {
          "color": "rgb(141,211,199)",
          "width": 3
         },
         "marker": {
          "size": 8
         },
         "mode": "lines+markers",
         "name": "A00",
         "type": "scatter",
         "x": {
          "bdata": "4gfjB+QH5QfnB+gH",
          "dtype": "i2"
         },
         "y": {
          "bdata": "w/UoXI8COEDsUbgehes0QMP1KFyPgjZAAAAAAABAN0DNzMzMzEw5QArXo3A9ijlA",
          "dtype": "f8"
         }
        },
        {
         "line": {
          "color": "rgb(255,255,179)",
          "width": 3
         },
         "marker": {
          "size": 8
         },
         "mode": "lines+markers",
         "name": "A01",
         "type": "scatter",
         "x": {
          "bdata": "4gfjB+QH5QfmB+cH6Ac=",
          "dtype": "i2"
         },
         "y": {
          "bdata": "mpmZmZlZOUBcj8L1KNw4QMP1KFyPQjhApHA9CtejPEDXo3A9Cpc2QClcj8L1KDhAhetRuB4FOUA=",
          "dtype": "f8"
         }
        },
        {
         "line": {
          "color": "rgb(190,186,218)",
          "width": 3
         },
         "marker": {
          "size": 8
         },
         "mode": "lines+markers",
         "name": "B00",
         "type": "scatter",
         "x": {
          "bdata": "4gfjB+QH5QfmB+cH6Ac=",
          "dtype": "i2"
         },
         "y": {
          "bdata": "cT0K16NwPEA9CtejcL04QLgehetR+DdAuB6F61F4N0ApXI/C9Wg1QI/C9ShcTzdAFK5H4XrUMkA=",
          "dtype": "f8"
         }
        },
        {
         "line": {
          "color": "rgb(251,128,114)",
          "width": 3
         },
         "marker": {
          "size": 8
         },
         "mode": "lines+markers",
         "name": "B01",
         "type": "scatter",
         "x": {
          "bdata": "4gfjB+QH5QfmB+cH6Ac=",
          "dtype": "i2"
         },
         "y": {
          "bdata": "XI/C9ShcNUCPwvUoXI8zQOF6FK5HITdAj8L1KFwPN0A9CtejcL02QB+F61G43jdAuB6F61H4N0A=",
          "dtype": "f8"
         }
        },
        {
         "line": {
          "color": "rgb(128,177,211)",
          "width": 3
         },
         "marker": {
          "size": 8
         },
         "mode": "lines+markers",
         "name": "C00",
         "type": "scatter",
         "x": {
          "bdata": "4gfjB+QH5QfmB+gH",
          "dtype": "i2"
         },
         "y": {
          "bdata": "zczMzMyMNkCuR+F6FC44QFK4HoXrkTVAAAAAAACAN0BSuB6F61E1QD0K16NwvThA",
          "dtype": "f8"
         }
        },
        {
         "line": {
          "color": "rgb(253,180,98)",
          "width": 3
         },
         "marker": {
          "size": 8
         },
         "mode": "lines+markers",
         "name": "C01",
         "type": "scatter",
         "x": {
          "bdata": "4gfjB+QH5QfmB+cH6Ac=",
          "dtype": "i2"
         },
         "y": {
          "bdata": "uB6F61E4N0CkcD0K1+M4QHsUrkfhujlAPQrXo3D9NUD2KFyPwrU5QI/C9ShcDzdAzczMzMwMN0A=",
          "dtype": "f8"
         }
        },
        {
         "line": {
          "color": "rgb(179,222,105)",
          "width": 3
         },
         "marker": {
          "size": 8
         },
         "mode": "lines+markers",
         "name": "D01",
         "type": "scatter",
         "x": {
          "bdata": "4gfjB+QH5QfmB+cH6Ac=",
          "dtype": "i2"
         },
         "y": {
          "bdata": "4XoUrkfhN0BI4XoUrgc4QClcj8L1qDVAuB6F61E4NkDhehSuR6EyQHE9CtejMDtAMzMzMzMzOEA=",
          "dtype": "f8"
         }
        },
        {
         "line": {
          "color": "rgb(252,205,229)",
          "width": 3
         },
         "marker": {
          "size": 8
         },
         "mode": "lines+markers",
         "name": "D02",
         "type": "scatter",
         "x": {
          "bdata": "4gfjB+QH5QfmB+cH6Ac=",
          "dtype": "i2"
         },
         "y": {
          "bdata": "UrgehesRPEAK16NwPco5QD0K16NwvTdAFK5H4XoUNEDXo3A9Chc5QIXrUbgehTlA16NwPQqXMkA=",
          "dtype": "f8"
         }
        }
       ],
       "layout": {
        "height": 600,
        "hovermode": "x unified",
        "template": {
         "data": {
          "bar": [
           {
            "error_x": {
             "color": "#2a3f5f"
            },
            "error_y": {
             "color": "#2a3f5f"
            },
            "marker": {
             "line": {
              "color": "white",
              "width": 0.5
             },
             "pattern": {
              "fillmode": "overlay",
              "size": 10,
              "solidity": 0.2
             }
            },
            "type": "bar"
           }
          ],
          "barpolar": [
           {
            "marker": {
             "line": {
              "color": "white",
              "width": 0.5
             },
             "pattern": {
              "fillmode": "overlay",
              "size": 10,
              "solidity": 0.2
             }
            },
            "type": "barpolar"
           }
          ],
          "carpet": [
           {
            "aaxis": {
             "endlinecolor": "#2a3f5f",
             "gridcolor": "#C8D4E3",
             "linecolor": "#C8D4E3",
             "minorgridcolor": "#C8D4E3",
             "startlinecolor": "#2a3f5f"
            },
            "baxis": {
             "endlinecolor": "#2a3f5f",
             "gridcolor": "#C8D4E3",
             "linecolor": "#C8D4E3",
             "minorgridcolor": "#C8D4E3",
             "startlinecolor": "#2a3f5f"
            },
            "type": "carpet"
           }
          ],
          "choropleth": [
           {
            "colorbar": {
             "outlinewidth": 0,
             "ticks": ""
            },
            "type": "choropleth"
           }
          ],
          "contour": [
           {
            "colorbar": {
             "outlinewidth": 0,
             "ticks": ""
            },
            "colorscale": [
             [
              0,
              "#0d0887"
             ],
             [
              0.1111111111111111,
              "#46039f"
             ],
             [
              0.2222222222222222,
              "#7201a8"
             ],
             [
              0.3333333333333333,
              "#9c179e"
             ],
             [
              0.4444444444444444,
              "#bd3786"
             ],
             [
              0.5555555555555556,
              "#d8576b"
             ],
             [
              0.6666666666666666,
              "#ed7953"
             ],
             [
              0.7777777777777778,
              "#fb9f3a"
             ],
             [
              0.8888888888888888,
              "#fdca26"
             ],
             [
              1,
              "#f0f921"
             ]
            ],
            "type": "contour"
           }
          ],
          "contourcarpet": [
           {
            "colorbar": {
             "outlinewidth": 0,
             "ticks": ""
            },
            "type": "contourcarpet"
           }
          ],
          "heatmap": [
           {
            "colorbar": {
             "outlinewidth": 0,
             "ticks": ""
            },
            "colorscale": [
             [
              0,
              "#0d0887"
             ],
             [
              0.1111111111111111,
              "#46039f"
             ],
             [
              0.2222222222222222,
              "#7201a8"
             ],
             [
              0.3333333333333333,
              "#9c179e"
             ],
             [
              0.4444444444444444,
              "#bd3786"
             ],
             [
              0.5555555555555556,
              "#d8576b"
             ],
             [
              0.6666666666666666,
              "#ed7953"
             ],
             [
              0.7777777777777778,
              "#fb9f3a"
             ],
             [
              0.8888888888888888,
              "#fdca26"
             ],
             [
              1,
              "#f0f921"
             ]
            ],
            "type": "heatmap"
           }
          ],
          "histogram": [
           {
            "marker": {
             "pattern": {
              "fillmode": "overlay",
              "size": 10,
              "solidity": 0.2
             }
            },
            "type": "histogram"
           }
          ],
          "histogram2d": [
           {
            "colorbar": {
             "outlinewidth": 0,
             "ticks": ""
            },
            "colorscale": [
             [
              0,
              "#0d0887"
             ],
             [
              0.1111111111111111,
              "#46039f"
             ],
             [
              0.2222222222222222,
              "#7201a8"
             ],
             [
              0.3333333333333333,
              "#9c179e"
             ],
             [
              0.4444444444444444,
              "#bd3786"
             ],
             [
              0.5555555555555556,
              "#d8576b"
             ],
             [
              0.6666666666666666,
              "#ed7953"
             ],
             [
              0.7777777777777778,
              "#fb9f3a"
             ],
             [
              0.8888888888888888,
              "#fdca26"
             ],
             [
              1,
              "#f0f921"
             ]
            ],
            "type": "histogram2d"
           }
          ],
          "histogram2dcontour": [
           {
            "colorbar": {
             "outlinewidth": 0,
             "ticks": ""
            },
            "colorscale": [
             [
              0,
              "#0d0887"
             ],
             [
              0.1111111111111111,
              "#46039f"
             ],
             [
              0.2222222222222222,
              "#7201a8"
             ],
             [
              0.3333333333333333,
              "#9c179e"
             ],
             [
              0.4444444444444444,
              "#bd3786"
             ],
             [
              0.5555555555555556,
              "#d8576b"
             ],
             [
              0.6666666666666666,
              "#ed7953"
             ],
             [
              0.7777777777777778,
              "#fb9f3a"
             ],
             [
              0.8888888888888888,
              "#fdca26"
             ],
             [
              1,
              "#f0f921"
             ]
            ],
            "type": "histogram2dcontour"
           }
          ],
          "mesh3d": [
           {
            "colorbar": {
             "outlinewidth": 0,
             "ticks": ""
            },
            "type": "mesh3d"
           }
          ],
          "parcoords": [
           {
            "line": {
             "colorbar": {
              "outlinewidth": 0,
              "ticks": ""
             }
            },
            "type": "parcoords"
           }
          ],
          "pie": [
           {
            "automargin": true,
            "type": "pie"
           }
          ],
          "scatter": [
           {
            "fillpattern": {
             "fillmode": "overlay",
             "size": 10,
             "solidity": 0.2
            },
            "type": "scatter"
           }
          ],
          "scatter3d": [
           {
            "line": {
             "colorbar": {
              "outlinewidth": 0,
              "ticks": ""
             }
            },
            "marker": {
             "colorbar": {
              "outlinewidth": 0,
              "ticks": ""
             }
            },
            "type": "scatter3d"
           }
          ],
          "scattercarpet": [
           {
            "marker": {
             "colorbar": {
              "outlinewidth": 0,
              "ticks": ""
             }
            },
            "type": "scattercarpet"
           }
          ],
          "scattergeo": [
           {
            "marker": {
             "colorbar": {
              "outlinewidth": 0,
              "ticks": ""
             }
            },
            "type": "scattergeo"
           }
          ],
          "scattergl": [
           {
            "marker": {
             "colorbar": {
              "outlinewidth": 0,
              "ticks": ""
             }
            },
            "type": "scattergl"
           }
          ],
          "scattermap": [
           {
            "marker": {
             "colorbar": {
              "outlinewidth": 0,
              "ticks": ""
             }
            },
            "type": "scattermap"
           }
          ],
          "scattermapbox": [
           {
            "marker": {
             "colorbar": {
              "outlinewidth": 0,
              "ticks": ""
             }
            },
            "type": "scattermapbox"
           }
          ],
          "scatterpolar": [
           {
            "marker": {
             "colorbar": {
              "outlinewidth": 0,
              "ticks": ""
             }
            },
            "type": "scatterpolar"
           }
          ],
          "scatterpolargl": [
           {
            "marker": {
             "colorbar": {
              "outlinewidth": 0,
              "ticks": ""
             }
            },
            "type": "scatterpolargl"
           }
          ],
          "scatterternary": [
           {
            "marker": {
             "colorbar": {
              "outlinewidth": 0,
              "ticks": ""
             }
            },
            "type": "scatterternary"
           }
          ],
          "surface": [
           {
            "colorbar": {
             "outlinewidth": 0,
             "ticks": ""
            },
            "colorscale": [
             [
              0,
              "#0d0887"
             ],
             [
              0.1111111111111111,
              "#46039f"
             ],
             [
              0.2222222222222222,
              "#7201a8"
             ],
             [
              0.3333333333333333,
              "#9c179e"
             ],
             [
              0.4444444444444444,
              "#bd3786"
             ],
             [
              0.5555555555555556,
              "#d8576b"
             ],
             [
              0.6666666666666666,
              "#ed7953"
             ],
             [
              0.7777777777777778,
              "#fb9f3a"
             ],
             [
              0.8888888888888888,
              "#fdca26"
             ],
             [
              1,
              "#f0f921"
             ]
            ],
            "type": "surface"
           }
          ],
          "table": [
           {
            "cells": {
             "fill": {
              "color": "#EBF0F8"
             },
             "line": {
              "color": "white"
             }
            },
            "header": {
             "fill": {
              "color": "#C8D4E3"
             },
             "line": {
              "color": "white"
             }
            },
            "type": "table"
           }
          ]
         },
         "layout": {
          "annotationdefaults": {
           "arrowcolor": "#2a3f5f",
           "arrowhead": 0,
           "arrowwidth": 1
          },
          "autotypenumbers": "strict",
          "coloraxis": {
           "colorbar": {
            "outlinewidth": 0,
            "ticks": ""
           }
          },
          "colorscale": {
           "diverging": [
            [
             0,
             "#8e0152"
            ],
            [
             0.1,
             "#c51b7d"
            ],
            [
             0.2,
             "#de77ae"
            ],
            [
             0.3,
             "#f1b6da"
            ],
            [
             0.4,
             "#fde0ef"
            ],
            [
             0.5,
             "#f7f7f7"
            ],
            [
             0.6,
             "#e6f5d0"
            ],
            [
             0.7,
             "#b8e186"
            ],
            [
             0.8,
             "#7fbc41"
            ],
            [
             0.9,
             "#4d9221"
            ],
            [
             1,
             "#276419"
            ]
           ],
           "sequential": [
            [
             0,
             "#0d0887"
            ],
            [
             0.1111111111111111,
             "#46039f"
            ],
            [
             0.2222222222222222,
             "#7201a8"
            ],
            [
             0.3333333333333333,
             "#9c179e"
            ],
            [
             0.4444444444444444,
             "#bd3786"
            ],
            [
             0.5555555555555556,
             "#d8576b"
            ],
            [
             0.6666666666666666,
             "#ed7953"
            ],
            [
             0.7777777777777778,
             "#fb9f3a"
            ],
            [
             0.8888888888888888,
             "#fdca26"
            ],
            [
             1,
             "#f0f921"
            ]
           ],
           "sequentialminus": [
            [
             0,
             "#0d0887"
            ],
            [
             0.1111111111111111,
             "#46039f"
            ],
            [
             0.2222222222222222,
             "#7201a8"
            ],
            [
             0.3333333333333333,
             "#9c179e"
            ],
            [
             0.4444444444444444,
             "#bd3786"
            ],
            [
             0.5555555555555556,
             "#d8576b"
            ],
            [
             0.6666666666666666,
             "#ed7953"
            ],
            [
             0.7777777777777778,
             "#fb9f3a"
            ],
            [
             0.8888888888888888,
             "#fdca26"
            ],
            [
             1,
             "#f0f921"
            ]
           ]
          },
          "colorway": [
           "#636efa",
           "#EF553B",
           "#00cc96",
           "#ab63fa",
           "#FFA15A",
           "#19d3f3",
           "#FF6692",
           "#B6E880",
           "#FF97FF",
           "#FECB52"
          ],
          "font": {
           "color": "#2a3f5f"
          },
          "geo": {
           "bgcolor": "white",
           "lakecolor": "white",
           "landcolor": "white",
           "showlakes": true,
           "showland": true,
           "subunitcolor": "#C8D4E3"
          },
          "hoverlabel": {
           "align": "left"
          },
          "hovermode": "closest",
          "mapbox": {
           "style": "light"
          },
          "paper_bgcolor": "white",
          "plot_bgcolor": "white",
          "polar": {
           "angularaxis": {
            "gridcolor": "#EBF0F8",
            "linecolor": "#EBF0F8",
            "ticks": ""
           },
           "bgcolor": "white",
           "radialaxis": {
            "gridcolor": "#EBF0F8",
            "linecolor": "#EBF0F8",
            "ticks": ""
           }
          },
          "scene": {
           "xaxis": {
            "backgroundcolor": "white",
            "gridcolor": "#DFE8F3",
            "gridwidth": 2,
            "linecolor": "#EBF0F8",
            "showbackground": true,
            "ticks": "",
            "zerolinecolor": "#EBF0F8"
           },
           "yaxis": {
            "backgroundcolor": "white",
            "gridcolor": "#DFE8F3",
            "gridwidth": 2,
            "linecolor": "#EBF0F8",
            "showbackground": true,
            "ticks": "",
            "zerolinecolor": "#EBF0F8"
           },
           "zaxis": {
            "backgroundcolor": "white",
            "gridcolor": "#DFE8F3",
            "gridwidth": 2,
            "linecolor": "#EBF0F8",
            "showbackground": true,
            "ticks": "",
            "zerolinecolor": "#EBF0F8"
           }
          },
          "shapedefaults": {
           "line": {
            "color": "#2a3f5f"
           }
          },
          "ternary": {
           "aaxis": {
            "gridcolor": "#DFE8F3",
            "linecolor": "#A2B1C6",
            "ticks": ""
           },
           "baxis": {
            "gridcolor": "#DFE8F3",
            "linecolor": "#A2B1C6",
            "ticks": ""
           },
           "bgcolor": "white",
           "caxis": {
            "gridcolor": "#DFE8F3",
            "linecolor": "#A2B1C6",
            "ticks": ""
           }
          },
          "title": {
           "x": 0.05
          },
          "xaxis": {
           "automargin": true,
           "gridcolor": "#EBF0F8",
           "linecolor": "#EBF0F8",
           "ticks": "",
           "title": {
            "standoff": 15
           },
           "zerolinecolor": "#EBF0F8",
           "zerolinewidth": 2
          },
          "yaxis": {
           "automargin": true,
           "gridcolor": "#EBF0F8",
           "linecolor": "#EBF0F8",
           "ticks": "",
           "title": {
            "standoff": 15
           },
           "zerolinecolor": "#EBF0F8",
           "zerolinewidth": 2
          }
         }
        },
        "title": {
         "text": "Xu hướng Điểm chuẩn Trung bình theo Tổ hợp Môn (2018-2024)"
        },
        "width": 1000,
        "xaxis": {
         "title": {
          "text": "Năm"
         }
        },
        "yaxis": {
         "title": {
          "text": "Điểm chuẩn Trung bình"
         }
        }
       }
      }
     },
     "metadata": {},
     "output_type": "display_data"
    },
    {
     "name": "stdout",
     "output_type": "stream",
     "text": [
      "\n",
      "📈 PHÂN TÍCH XU HƯỚNG CHI TIẾT:\n",
      "========================================\n",
      "🔺 Tổ hợp có xu hướng TĂNG điểm mạnh nhất:\n",
      "   B01: +0.574 điểm/năm (R² = 0.625)\n",
      "   A00: +0.538 điểm/năm (R² = 0.507)\n",
      "   C00: +0.168 điểm/năm (R² = 0.067)\n",
      "\n",
      "🔻 Tổ hợp có xu hướng GIẢM điểm mạnh nhất:\n",
      "   B00: -1.223 điểm/năm (R² = 0.800)\n",
      "   D02: -0.987 điểm/năm (R² = 0.402)\n",
      "   C01: -0.150 điểm/năm (R² = 0.048)\n",
      "\n",
      "⚖️ Số tổ hợp có xu hướng ỔN ĐỊNH: 0/8\n"
     ]
    }
   ],
   "source": [
    "# Lấy dữ liệu xu hướng\n",
    "trends, trend_analysis = results['trends']\n",
    "\n",
    "print(\"📊 XU HƯỚNG ĐIỂM CHUẨN THEO THỜI GIAN:\")\n",
    "print(\"=\"*40)\n",
    "display(trend_analysis.sort_values('xu_huong', ascending=False))\n",
    "\n",
    "# Tạo biểu đồ xu hướng điểm chuẩn\n",
    "fig = go.Figure()\n",
    "\n",
    "# Thêm đường xu hướng cho từng tổ hợp\n",
    "colors = px.colors.qualitative.Set3\n",
    "for i, to_hop in enumerate(trends['ma_to_hop'].unique()):\n",
    "    subset = trends[trends['ma_to_hop'] == to_hop]\n",
    "    \n",
    "    fig.add_trace(go.Scatter(\n",
    "        x=subset['nam'],\n",
    "        y=subset['diem_chuan_tb'],\n",
    "        mode='lines+markers',\n",
    "        name=to_hop,\n",
    "        line=dict(color=colors[i % len(colors)], width=3),\n",
    "        marker=dict(size=8)\n",
    "    ))\n",
    "\n",
    "fig.update_layout(\n",
    "    title='Xu hướng Điểm chuẩn Trung bình theo Tổ hợp Môn (2018-2024)',\n",
    "    xaxis_title='Năm',\n",
    "    yaxis_title='Điểm chuẩn Trung bình',\n",
    "    hovermode='x unified',\n",
    "    template='plotly_white',\n",
    "    height=600,\n",
    "    width=1000\n",
    ")\n",
    "\n",
    "fig.show()\n",
    "\n",
    "# Phân tích thống kê xu hướng\n",
    "print(\"\\n📈 PHÂN TÍCH XU HƯỚNG CHI TIẾT:\")\n",
    "print(\"=\"*40)\n",
    "\n",
    "# Tổ hợp tăng mạnh nhất\n",
    "tang_manh = trend_analysis[trend_analysis['ket_luan'] == 'Tăng'].nlargest(3, 'xu_huong')\n",
    "if not tang_manh.empty:\n",
    "    print(\"🔺 Tổ hợp có xu hướng TĂNG điểm mạnh nhất:\")\n",
    "    for _, row in tang_manh.iterrows():\n",
    "        print(f\"   {row['ma_to_hop']}: +{row['xu_huong']:.3f} điểm/năm (R² = {row['r_squared']:.3f})\")\n",
    "\n",
    "# Tổ hợp giảm mạnh nhất  \n",
    "giam_manh = trend_analysis[trend_analysis['ket_luan'] == 'Giảm'].nsmallest(3, 'xu_huong')\n",
    "if not giam_manh.empty:\n",
    "    print(\"\\n🔻 Tổ hợp có xu hướng GIẢM điểm mạnh nhất:\")\n",
    "    for _, row in giam_manh.iterrows():\n",
    "        print(f\"   {row['ma_to_hop']}: {row['xu_huong']:.3f} điểm/năm (R² = {row['r_squared']:.3f})\")\n",
    "\n",
    "# Tổ hợp ổn định\n",
    "on_dinh = trend_analysis[trend_analysis['ket_luan'] == 'Ổn định']\n",
    "print(f\"\\n⚖️ Số tổ hợp có xu hướng ỔN ĐỊNH: {len(on_dinh)}/{len(trend_analysis)}\")"
   ]
  },
  {
   "cell_type": "markdown",
   "id": "cb7fb967",
   "metadata": {},
   "source": [
    "### 🗺️ 2.3. Phân tích Khác biệt Vùng miền\n",
    "\n",
    "**Câu hỏi**: Có sự khác biệt có ý nghĩa thống kê về điểm chuẩn giữa Miền Bắc và Miền Nam không?"
   ]
  },
  {
   "cell_type": "code",
   "execution_count": 7,
   "id": "de596793",
   "metadata": {},
   "outputs": [
    {
     "name": "stdout",
     "output_type": "stream",
     "text": [
      "🗺️ KIỂM ĐỊNH T-TEST GIỮA MIỀN BẮC VÀ MIỀN NAM:\n",
      "==================================================\n"
     ]
    },
    {
     "data": {
      "text/html": [
       "<div>\n",
       "<style scoped>\n",
       "    .dataframe tbody tr th:only-of-type {\n",
       "        vertical-align: middle;\n",
       "    }\n",
       "\n",
       "    .dataframe tbody tr th {\n",
       "        vertical-align: top;\n",
       "    }\n",
       "\n",
       "    .dataframe thead th {\n",
       "        text-align: right;\n",
       "    }\n",
       "</style>\n",
       "<table border=\"1\" class=\"dataframe\">\n",
       "  <thead>\n",
       "    <tr style=\"text-align: right;\">\n",
       "      <th></th>\n",
       "      <th>ma_to_hop</th>\n",
       "      <th>t_statistic</th>\n",
       "      <th>p_value</th>\n",
       "      <th>khac_biet_co_y_nghia</th>\n",
       "      <th>mien_bac_tb</th>\n",
       "      <th>mien_nam_tb</th>\n",
       "    </tr>\n",
       "  </thead>\n",
       "  <tbody>\n",
       "    <tr>\n",
       "      <th>0</th>\n",
       "      <td>C01</td>\n",
       "      <td>-1.346</td>\n",
       "      <td>0.189</td>\n",
       "      <td>Không</td>\n",
       "      <td>23.06</td>\n",
       "      <td>24.62</td>\n",
       "    </tr>\n",
       "    <tr>\n",
       "      <th>7</th>\n",
       "      <td>B00</td>\n",
       "      <td>-1.098</td>\n",
       "      <td>0.284</td>\n",
       "      <td>Không</td>\n",
       "      <td>20.94</td>\n",
       "      <td>23.11</td>\n",
       "    </tr>\n",
       "    <tr>\n",
       "      <th>6</th>\n",
       "      <td>B01</td>\n",
       "      <td>0.986</td>\n",
       "      <td>0.337</td>\n",
       "      <td>Không</td>\n",
       "      <td>23.50</td>\n",
       "      <td>22.21</td>\n",
       "    </tr>\n",
       "    <tr>\n",
       "      <th>3</th>\n",
       "      <td>C00</td>\n",
       "      <td>-0.332</td>\n",
       "      <td>0.743</td>\n",
       "      <td>Không</td>\n",
       "      <td>22.72</td>\n",
       "      <td>23.18</td>\n",
       "    </tr>\n",
       "    <tr>\n",
       "      <th>5</th>\n",
       "      <td>D01</td>\n",
       "      <td>-0.308</td>\n",
       "      <td>0.761</td>\n",
       "      <td>Không</td>\n",
       "      <td>23.62</td>\n",
       "      <td>24.02</td>\n",
       "    </tr>\n",
       "    <tr>\n",
       "      <th>1</th>\n",
       "      <td>D02</td>\n",
       "      <td>0.049</td>\n",
       "      <td>0.961</td>\n",
       "      <td>Không</td>\n",
       "      <td>24.09</td>\n",
       "      <td>24.00</td>\n",
       "    </tr>\n",
       "    <tr>\n",
       "      <th>2</th>\n",
       "      <td>A00</td>\n",
       "      <td>-0.041</td>\n",
       "      <td>0.968</td>\n",
       "      <td>Không</td>\n",
       "      <td>23.67</td>\n",
       "      <td>23.73</td>\n",
       "    </tr>\n",
       "    <tr>\n",
       "      <th>4</th>\n",
       "      <td>A01</td>\n",
       "      <td>-0.002</td>\n",
       "      <td>0.998</td>\n",
       "      <td>Không</td>\n",
       "      <td>24.36</td>\n",
       "      <td>24.36</td>\n",
       "    </tr>\n",
       "  </tbody>\n",
       "</table>\n",
       "</div>"
      ],
      "text/plain": [
       "  ma_to_hop  t_statistic  p_value khac_biet_co_y_nghia  mien_bac_tb  \\\n",
       "0       C01       -1.346    0.189                Không        23.06   \n",
       "7       B00       -1.098    0.284                Không        20.94   \n",
       "6       B01        0.986    0.337                Không        23.50   \n",
       "3       C00       -0.332    0.743                Không        22.72   \n",
       "5       D01       -0.308    0.761                Không        23.62   \n",
       "1       D02        0.049    0.961                Không        24.09   \n",
       "2       A00       -0.041    0.968                Không        23.67   \n",
       "4       A01       -0.002    0.998                Không        24.36   \n",
       "\n",
       "   mien_nam_tb  \n",
       "0        24.62  \n",
       "7        23.11  \n",
       "6        22.21  \n",
       "3        23.18  \n",
       "5        24.02  \n",
       "1        24.00  \n",
       "2        23.73  \n",
       "4        24.36  "
      ]
     },
     "metadata": {},
     "output_type": "display_data"
    },
    {
     "data": {
      "image/png": "[encoded data removed]",
      "text/plain": [
       "<Figure size 1600x1200 with 4 Axes>"
      ]
     },
     "metadata": {},
     "output_type": "display_data"
    },
    {
     "name": "stdout",
     "output_type": "stream",
     "text": [
      "\n",
      "📊 KẾT QUẢ KIỂM ĐỊNH:\n",
      "✅ Số tổ hợp có sự khác biệt có ý nghĩa thống kê: 0/8\n",
      "📈 Tỷ lệ: 0.0%\n"
     ]
    }
   ],
   "source": [
    "# Lấy dữ liệu khác biệt vùng miền\n",
    "regional_stats, t_test = results['regional']\n",
    "\n",
    "print(\"🗺️ KIỂM ĐỊNH T-TEST GIỮA MIỀN BẮC VÀ MIỀN NAM:\")\n",
    "print(\"=\"*50)\n",
    "display(t_test.sort_values('p_value'))\n",
    "\n",
    "# Tạo biểu đồ so sánh vùng miền\n",
    "fig, axes = plt.subplots(2, 2, figsize=(16, 12))\n",
    "\n",
    "# Biểu đồ 1: So sánh điểm trung bình\n",
    "regional_pivot = regional_stats.pivot(index='ma_to_hop', columns='vung_mien', values='diem_chuan_tb')\n",
    "regional_pivot.plot(kind='bar', ax=axes[0,0], color=['lightblue', 'lightcoral'])\n",
    "axes[0,0].set_title('Điểm chuẩn TB theo Vùng miền', fontweight='bold')\n",
    "axes[0,0].set_ylabel('Điểm chuẩn TB')\n",
    "axes[0,0].legend(title='Vùng miền')\n",
    "axes[0,0].tick_params(axis='x', rotation=45)\n",
    "\n",
    "# Biểu đồ 2: Độ lệch chuẩn\n",
    "regional_std = regional_stats.pivot(index='ma_to_hop', columns='vung_mien', values='diem_chuan_std')\n",
    "regional_std.plot(kind='bar', ax=axes[0,1], color=['lightgreen', 'orange'])\n",
    "axes[0,1].set_title('Độ lệch chuẩn theo Vùng miền', fontweight='bold')\n",
    "axes[0,1].set_ylabel('Độ lệch chuẩn')\n",
    "axes[0,1].legend(title='Vùng miền')\n",
    "axes[0,1].tick_params(axis='x', rotation=45)\n",
    "\n",
    "# Biểu đồ 3: Số ngành\n",
    "regional_count = regional_stats.pivot(index='ma_to_hop', columns='vung_mien', values='so_nganh')\n",
    "regional_count.plot(kind='bar', ax=axes[1,0], color=['gold', 'purple'])\n",
    "axes[1,0].set_title('Số Ngành theo Vùng miền', fontweight='bold')\n",
    "axes[1,0].set_ylabel('Số Ngành')\n",
    "axes[1,0].legend(title='Vùng miền')\n",
    "axes[1,0].tick_params(axis='x', rotation=45)\n",
    "\n",
    "# Biểu đồ 4: P-value của t-test\n",
    "axes[1,1].barh(t_test['ma_to_hop'], t_test['p_value'], \n",
    "               color=['red' if p < 0.05 else 'gray' for p in t_test['p_value']])\n",
    "axes[1,1].set_title('P-value của T-test (α = 0.05)', fontweight='bold')\n",
    "axes[1,1].set_xlabel('P-value')\n",
    "axes[1,1].axvline(x=0.05, color='red', linestyle='--', alpha=0.7, label='α = 0.05')\n",
    "axes[1,1].legend()\n",
    "\n",
    "plt.tight_layout()\n",
    "plt.show()\n",
    "\n",
    "# Tóm tắt kết quả kiểm định\n",
    "khac_biet_co_y_nghia = t_test[t_test['khac_biet_co_y_nghia'] == 'Có']\n",
    "print(f\"\\n📊 KẾT QUẢ KIỂM ĐỊNH:\")\n",
    "print(f\"✅ Số tổ hợp có sự khác biệt có ý nghĩa thống kê: {len(khac_biet_co_y_nghia)}/{len(t_test)}\")\n",
    "print(f\"📈 Tỷ lệ: {len(khac_biet_co_y_nghia)/len(t_test)*100:.1f}%\")\n",
    "\n",
    "if not khac_biet_co_y_nghia.empty:\n",
    "    print(f\"\\n🎯 CÁC TỔ HỢP CÓ SỰ KHÁC BIỆT CÓ Ý NGHĨA:\")\n",
    "    for _, row in khac_biet_co_y_nghia.iterrows():\n",
    "        diff = abs(row['mien_bac_tb'] - row['mien_nam_tb'])\n",
    "        higher = 'Miền Bắc' if row['mien_bac_tb'] > row['mien_nam_tb'] else 'Miền Nam'\n",
    "        print(f\"   {row['ma_to_hop']}: {higher} cao hơn {diff:.2f} điểm (p = {row['p_value']:.3f})\")"
   ]
  },
  {
   "cell_type": "markdown",
   "id": "e0b54677",
   "metadata": {},
   "source": [
    "### 🎯 2.4. Phân tích Độ khó và Xếp hạng Tổ hợp Môn\n",
    "\n",
    "**Câu hỏi**: Tổ hợp nào khó nhất? Tiêu chí đánh giá độ khó dựa trên những yếu tố nào?"
   ]
  },
  {
   "cell_type": "code",
   "execution_count": null,
   "id": "56ee10c4",
   "metadata": {},
   "outputs": [],
   "source": [
    "# Lấy dữ liệu độ khó\n",
    "difficulty = results['difficulty']\n",
    "\n",
    "print(\"🎯 XẾP HẠNG ĐỘ KHÓ CÁC TỔ HỢP MÔN:\")\n",
    "print(\"=\"*40)\n",
    "display(difficulty[['ma_to_hop', 'muc_do_kho', 'hang_do_kho', 'diem_do_kho']].head(8))\n",
    "\n",
    "# Tạo biểu đồ radar so sánh các tổ hợp\n",
    "def create_radar_chart(df, top_n=6):\n",
    "    \"\"\"Tạo biểu đồ radar so sánh các tổ hợp\"\"\"\n",
    "    \n",
    "    # Lấy top N tổ hợp\n",
    "    top_combos = df.head(top_n)\n",
    "    \n",
    "    # Các chỉ số cần hiển thị (đã chuẩn hóa)\n",
    "    metrics = ['diem_trung_binh', 'do_lech_chuan', 'diem_chuan_tb']\n",
    "    \n",
    "    fig = go.Figure()\n",
    "    \n",
    "    colors = px.colors.qualitative.Set1\n",
    "    \n",
    "    for i, (_, row) in enumerate(top_combos.iterrows()):\n",
    "        fig.add_trace(go.Scatterpolar(\n",
    "            r=[row[metric] for metric in metrics] + [row[metrics[0]]],  # Đóng vòng\n",
    "            theta=metrics + [metrics[0]],\n",
    "            fill='toself',\n",
    "            name=f\"{row['ma_to_hop']} (#{int(row['hang_do_kho'])})\",\n",
    "            line_color=colors[i % len(colors)],\n",
    "            opacity=0.6\n",
    "        ))\n",
    "    \n",
    "    fig.update_layout(\n",
    "        polar=dict(\n",
    "            radialaxis=dict(\n",
    "                visible=True,\n",
    "                range=[-3, 3]  # Z-score range\n",
    "            )),\n",
    "        showlegend=True,\n",
    "        title=\"So sánh Độ khó các Tổ hợp Môn (Z-score chuẩn hóa)\",\n",
    "        height=600,\n",
    "        width=800\n",
    "    )\n",
    "    \n",
    "    return fig\n",
    "\n",
    "# Hiển thị biểu đồ radar\n",
    "radar_fig = create_radar_chart(difficulty)\n",
    "radar_fig.show()\n",
    "\n",
    "# Biểu đồ phân bố độ khó\n",
    "fig, (ax1, ax2) = plt.subplots(1, 2, figsize=(16, 6))\n",
    "\n",
    "# Biểu đồ 1: Phân bố theo mức độ khó\n",
    "difficulty_counts = difficulty['muc_do_kho'].value_counts()\n",
    "colors_pie = ['lightgreen', 'orange', 'red']\n",
    "ax1.pie(difficulty_counts.values, labels=difficulty_counts.index, autopct='%1.1f%%',\n",
    "        colors=colors_pie, startangle=90)\n",
    "ax1.set_title('Phân bố Mức độ Khó', fontweight='bold')\n",
    "\n",
    "# Biểu đồ 2: Điểm độ khó theo tổ hợp\n",
    "difficulty_sorted = difficulty.sort_values('diem_do_kho', ascending=True)\n",
    "bars = ax2.barh(difficulty_sorted['ma_to_hop'], difficulty_sorted['diem_do_kho'])\n",
    "\n",
    "# Tô màu theo mức độ khó\n",
    "for i, (bar, level) in enumerate(zip(bars, difficulty_sorted['muc_do_kho'])):\n",
    "    if level == 'Dễ':\n",
    "        bar.set_color('lightgreen')\n",
    "    elif level == 'Trung bình':\n",
    "        bar.set_color('orange')\n",
    "    else:\n",
    "        bar.set_color('red')\n",
    "\n",
    "ax2.set_title('Điểm Độ khó theo Tổ hợp Môn', fontweight='bold')\n",
    "ax2.set_xlabel('Điểm Độ khó (Z-score tổng hợp)')\n",
    "ax2.axvline(x=0, color='black', linestyle='--', alpha=0.5)\n",
    "ax2.grid(axis='x', alpha=0.3)\n",
    "\n",
    "plt.tight_layout()\n",
    "plt.show()\n",
    "\n",
    "# Phân tích chi tiết\n",
    "print(\"\\n📈 PHÂN TÍCH CHI TIẾT ĐỘ KHÓ:\")\n",
    "print(\"=\"*30)\n",
    "\n",
    "kho_nhat = difficulty.head(3)\n",
    "de_nhat = difficulty.tail(3)\n",
    "\n",
    "print(\"🔴 TOP 3 TỔ HỢP KHÓ NHẤT:\")\n",
    "for _, row in kho_nhat.iterrows():\n",
    "    print(f\"   #{int(row['hang_do_kho'])}. {row['ma_to_hop']} - {row['muc_do_kho']} (điểm: {row['diem_do_kho']:.2f})\")\n",
    "\n",
    "print(\"\\n🟢 TOP 3 TỔ HỢP DỄ NHẤT:\")\n",
    "for _, row in de_nhat.iterrows():\n",
    "    print(f\"   #{int(row['hang_do_kho'])}. {row['ma_to_hop']} - {row['muc_do_kho']} (điểm: {row['diem_do_kho']:.2f})\")\n",
    "\n",
    "# Thống kê mô tả\n",
    "print(f\"\\n📊 THỐNG KÊ TỔNG QUAN:\")\n",
    "print(f\"   Trung bình điểm độ khó: {difficulty['diem_do_kho'].mean():.2f}\")\n",
    "print(f\"   Độ lệch chuẩn: {difficulty['diem_do_kho'].std():.2f}\")\n",
    "print(f\"   Khác biệt giữa khó nhất và dễ nhất: {difficulty['diem_do_kho'].max() - difficulty['diem_do_kho'].min():.2f}\")"
   ]
  },
  {
   "cell_type": "markdown",
   "id": "2bd302dc",
   "metadata": {},
   "source": [
    "### 🔗 2.5. Phân cụm các Tổ hợp Môn theo Đặc điểm\n",
    "\n",
    "**Câu hỏi**: Có thể nhóm các tổ hợp thành những cụm có đặc điểm tương tự không?"
   ]
  },
  {
   "cell_type": "code",
   "execution_count": null,
   "id": "7d05ba9e",
   "metadata": {},
   "outputs": [],
   "source": [
    "# Lấy dữ liệu phân cụm\n",
    "clusters = results['clusters']\n",
    "\n",
    "print(\"🔗 KẾT QUẢ PHÂN CỤM CÁC TỔ HỢP MÔN:\")\n",
    "print(\"=\"*40)\n",
    "display(clusters[['ma_to_hop', 'cluster_label', 'diem_trung_binh', 'so_thi_sinh', 'diem_chuan_tb']])\n",
    "\n",
    "# Biểu đồ phân cụm 3D\n",
    "fig = px.scatter_3d(clusters, \n",
    "                    x='diem_trung_binh', \n",
    "                    y='so_thi_sinh', \n",
    "                    z='diem_chuan_tb',\n",
    "                    color='cluster_label',\n",
    "                    text='ma_to_hop',\n",
    "                    title='Phân cụm 3D các Tổ hợp Môn',\n",
    "                    labels={\n",
    "                        'diem_trung_binh': 'Điểm TB',\n",
    "                        'so_thi_sinh': 'Số thí sinh',\n",
    "                        'diem_chuan_tb': 'Điểm chuẩn TB'\n",
    "                    },\n",
    "                    width=1000,\n",
    "                    height=600)\n",
    "\n",
    "fig.update_traces(textposition=\"top center\")\n",
    "fig.show()\n",
    "\n",
    "# Biểu đồ phân cụm 2D\n",
    "fig, ((ax1, ax2), (ax3, ax4)) = plt.subplots(2, 2, figsize=(16, 12))\n",
    "\n",
    "# Cluster colors\n",
    "cluster_colors = {'Nhóm 1: Thi sinh nhiều, điểm TB': 'blue',\n",
    "                 'Nhóm 2: Điểm cao, cạnh tranh': 'red', \n",
    "                 'Nhóm 3: Điểm thấp, ít cạnh tranh': 'green'}\n",
    "\n",
    "# Biểu đồ 1: Điểm TB vs Số thí sinh\n",
    "for cluster_name in clusters['cluster_label'].unique():\n",
    "    subset = clusters[clusters['cluster_label'] == cluster_name]\n",
    "    ax1.scatter(subset['diem_trung_binh'], subset['so_thi_sinh'], \n",
    "               c=cluster_colors[cluster_name], label=cluster_name, s=100, alpha=0.7)\n",
    "    \n",
    "    # Thêm label cho từng điểm\n",
    "    for _, row in subset.iterrows():\n",
    "        ax1.annotate(row['ma_to_hop'], (row['diem_trung_binh'], row['so_thi_sinh']),\n",
    "                    xytext=(5, 5), textcoords='offset points', fontsize=10)\n",
    "\n",
    "ax1.set_xlabel('Điểm Trung bình')\n",
    "ax1.set_ylabel('Số Thí sinh')\n",
    "ax1.set_title('Điểm TB vs Số thí sinh')\n",
    "ax1.legend()\n",
    "ax1.grid(True, alpha=0.3)\n",
    "\n",
    "# Biểu đồ 2: Điểm chuẩn vs Độ lệch chuẩn\n",
    "for cluster_name in clusters['cluster_label'].unique():\n",
    "    subset = clusters[clusters['cluster_label'] == cluster_name]\n",
    "    ax2.scatter(subset['diem_chuan_tb'], subset['do_lech_chuan'], \n",
    "               c=cluster_colors[cluster_name], label=cluster_name, s=100, alpha=0.7)\n",
    "    \n",
    "    for _, row in subset.iterrows():\n",
    "        ax2.annotate(row['ma_to_hop'], (row['diem_chuan_tb'], row['do_lech_chuan']),\n",
    "                    xytext=(5, 5), textcoords='offset points', fontsize=10)\n",
    "\n",
    "ax2.set_xlabel('Điểm Chuẩn TB')\n",
    "ax2.set_ylabel('Độ Lệch Chuẩn')\n",
    "ax2.set_title('Điểm chuẩn vs Độ lệch chuẩn')\n",
    "ax2.legend()\n",
    "ax2.grid(True, alpha=0.3)\n",
    "\n",
    "# Biểu đồ 3: Phân bố theo cluster\n",
    "cluster_counts = clusters['cluster_label'].value_counts()\n",
    "ax3.pie(cluster_counts.values, labels=[label.split(':')[0] for label in cluster_counts.index], \n",
    "        autopct='%1.1f%%', startangle=90)\n",
    "ax3.set_title('Phân bố Tổ hợp theo Cluster')\n",
    "\n",
    "# Biểu đồ 4: Tỷ lệ đạt theo cluster\n",
    "ax4.boxplot([clusters[clusters['cluster_label'] == cluster]['ty_le_dat'] \n",
    "            for cluster in clusters['cluster_label'].unique()],\n",
    "           labels=[label.split(':')[0] for label in clusters['cluster_label'].unique()])\n",
    "ax4.set_title('Phân bố Tỷ lệ Đạt theo Cluster')\n",
    "ax4.set_ylabel('Tỷ lệ Đạt (%)')\n",
    "ax4.grid(True, alpha=0.3)\n",
    "\n",
    "plt.tight_layout()\n",
    "plt.show()\n",
    "\n",
    "# Thống kê mô tả từng cluster\n",
    "print(\"\\n📊 THỐNG KÊ CHI TIẾT TỪNG CLUSTER:\")\n",
    "print(\"=\"*50)\n",
    "\n",
    "for cluster_name in clusters['cluster_label'].unique():\n",
    "    subset = clusters[clusters['cluster_label'] == cluster_name]\n",
    "    print(f\"\\n🎯 {cluster_name}:\")\n",
    "    print(f\"   Số tổ hợp: {len(subset)}\")\n",
    "    print(f\"   Các tổ hợp: {', '.join(subset['ma_to_hop'].tolist())}\")\n",
    "    print(f\"   Điểm TB: {subset['diem_trung_binh'].mean():.2f} ± {subset['diem_trung_binh'].std():.2f}\")\n",
    "    print(f\"   Số thí sinh TB: {subset['so_thi_sinh'].mean():.0f}\")\n",
    "    print(f\"   Điểm chuẩn TB: {subset['diem_chuan_tb'].mean():.2f}\")\n",
    "    print(f\"   Tỷ lệ đạt TB: {subset['ty_le_dat'].mean():.1f}%\")"
   ]
  },
  {
   "cell_type": "markdown",
   "id": "48b2c280",
   "metadata": {},
   "source": [
    "## 📋 Bước 3: Kết luận và Khuyến nghị Nghiên cứu\n",
    "\n",
    "### 🎯 Tóm tắt Kết quả Nghiên cứu\n",
    "\n",
    "Sau khi phân tích chuyên sâu dữ liệu các tổ hợp môn THPT từ 2018-2024, chúng ta có những phát hiện quan trọng:"
   ]
  },
  {
   "cell_type": "code",
   "execution_count": null,
   "id": "1e58da89",
   "metadata": {},
   "outputs": [],
   "source": [
    "# Tạo dashboard tổng hợp kết quả nghiên cứu\n",
    "def create_summary_dashboard():\n",
    "    \"\"\"Tạo dashboard tổng hợp các kết quả nghiên cứu\"\"\"\n",
    "    \n",
    "    # Tạo subplot với 6 biểu đồ\n",
    "    fig = make_subplots(\n",
    "        rows=3, cols=2,\n",
    "        subplot_titles=[\n",
    "            \"Độ phổ biến Tổ hợp môn\",\n",
    "            \"Xu hướng Điểm chuẩn theo Thời gian\", \n",
    "            \"So sánh Vùng miền\",\n",
    "            \"Xếp hạng Độ khó\",\n",
    "            \"Phân cụm Tổ hợp\",\n",
    "            \"Tương quan các Chỉ số\"\n",
    "        ],\n",
    "        specs=[[{\"type\": \"bar\"}, {\"type\": \"scatter\"}],\n",
    "               [{\"type\": \"bar\"}, {\"type\": \"bar\"}], \n",
    "               [{\"type\": \"scatter\"}, {\"type\": \"heatmap\"}]]\n",
    "    )\n",
    "    \n",
    "    # 1. Độ phổ biến (Bar chart)\n",
    "    pop_data = popularity.head(6)\n",
    "    fig.add_trace(\n",
    "        go.Bar(x=pop_data['ma_to_hop'], y=pop_data['so_nganh'],\n",
    "               name=\"Số ngành\", marker_color='lightblue'),\n",
    "        row=1, col=1\n",
    "    )\n",
    "    \n",
    "    # 2. Xu hướng thời gian (Line chart)\n",
    "    for to_hop in ['A00', 'D01', 'B00']:  # Top 3 tổ hợp\n",
    "        subset = trends[trends['ma_to_hop'] == to_hop]\n",
    "        fig.add_trace(\n",
    "            go.Scatter(x=subset['nam'], y=subset['diem_chuan_tb'],\n",
    "                      mode='lines+markers', name=f'Xu hướng {to_hop}'),\n",
    "            row=1, col=2\n",
    "        )\n",
    "    \n",
    "    # 3. So sánh vùng miền\n",
    "    significant_diff = t_test[t_test['khac_biet_co_y_nghia'] == 'Có']\n",
    "    fig.add_trace(\n",
    "        go.Bar(x=significant_diff['ma_to_hop'], \n",
    "               y=abs(significant_diff['mien_bac_tb'] - significant_diff['mien_nam_tb']),\n",
    "               name=\"Chênh lệch Bắc-Nam\", marker_color='orange'),\n",
    "        row=2, col=1\n",
    "    )\n",
    "    \n",
    "    # 4. Xếp hạng độ khó\n",
    "    diff_data = difficulty.head(6)\n",
    "    colors_map = {'Dễ': 'green', 'Trung bình': 'orange', 'Khó': 'red'}\n",
    "    fig.add_trace(\n",
    "        go.Bar(x=diff_data['ma_to_hop'], y=diff_data['diem_do_kho'],\n",
    "               name=\"Điểm độ khó\",\n",
    "               marker_color=[colors_map.get(level, 'gray') for level in diff_data['muc_do_kho']]),\n",
    "        row=2, col=2\n",
    "    )\n",
    "    \n",
    "    # 5. Phân cụm (Scatter)\n",
    "    for i, cluster_name in enumerate(clusters['cluster_label'].unique()):\n",
    "        subset = clusters[clusters['cluster_label'] == cluster_name]\n",
    "        fig.add_trace(\n",
    "            go.Scatter(x=subset['diem_trung_binh'], y=subset['diem_chuan_tb'],\n",
    "                      mode='markers+text', text=subset['ma_to_hop'],\n",
    "                      name=cluster_name.split(':')[0], \n",
    "                      marker_size=10),\n",
    "            row=3, col=1\n",
    "        )\n",
    "    \n",
    "    # 6. Ma trận tương quan\n",
    "    corr_matrix = popularity[['so_nganh', 'tong_chi_tieu', 'diem_chuan_tb', 'diem_chuan_std']].corr()\n",
    "    fig.add_trace(\n",
    "        go.Heatmap(z=corr_matrix.values, \n",
    "                   x=corr_matrix.columns, \n",
    "                   y=corr_matrix.columns,\n",
    "                   colorscale='RdBu_r', \n",
    "                   zmin=-1, zmax=1,\n",
    "                   text=corr_matrix.round(2).values,\n",
    "                   texttemplate=\"%{text}\",\n",
    "                   showscale=True),\n",
    "        row=3, col=2\n",
    "    )\n",
    "    \n",
    "    # Cập nhật layout\n",
    "    fig.update_layout(\n",
    "        title_text=\"Dashboard Tổng hợp: Nghiên cứu So sánh các Tổ hợp Môn THPT\",\n",
    "        title_x=0.5,\n",
    "        height=1200,\n",
    "        width=1400,\n",
    "        showlegend=False\n",
    "    )\n",
    "    \n",
    "    return fig\n",
    "\n",
    "# Tạo và hiển thị dashboard\n",
    "dashboard = create_summary_dashboard()\n",
    "dashboard.show()\n",
    "\n",
    "# Tóm tắt các kết quả nghiên cứu chính\n",
    "print(\"🎯 TÓM TẮT KẾT QUẢ NGHIÊN CỨU CHÍNH:\")\n",
    "print(\"=\"*60)\n",
    "\n",
    "print(f\"\\n1️⃣ ĐỘ PHỔ BIẾN:\")\n",
    "top_popular = popularity.head(3)\n",
    "for _, row in top_popular.iterrows():\n",
    "    print(f\"   • {row['ma_to_hop']}: {row['so_nganh']} ngành, {row['tong_chi_tieu']} chỉ tiêu\")\n",
    "\n",
    "print(f\"\\n2️⃣ XU HƯỚNG THỜI GIAN:\")\n",
    "tang_trend = trend_analysis[trend_analysis['ket_luan'] == 'Tăng']\n",
    "if not tang_trend.empty:\n",
    "    print(f\"   • Xu hướng TĂNG: {', '.join(tang_trend['ma_to_hop'].tolist())}\")\n",
    "giam_trend = trend_analysis[trend_analysis['ket_luan'] == 'Giảm'] \n",
    "if not giam_trend.empty:\n",
    "    print(f\"   • Xu hướng GIẢM: {', '.join(giam_trend['ma_to_hop'].tolist())}\")\n",
    "\n",
    "print(f\"\\n3️⃣ KHÁC BIỆT VÙNG MIỀN:\")\n",
    "sig_diff = t_test[t_test['khac_biet_co_y_nghia'] == 'Có']\n",
    "print(f\"   • {len(sig_diff)}/{len(t_test)} tổ hợp có sự khác biệt có ý nghĩa\")\n",
    "if not sig_diff.empty:\n",
    "    print(f\"   • Tổ hợp khác biệt: {', '.join(sig_diff['ma_to_hop'].tolist())}\")\n",
    "\n",
    "print(f\"\\n4️⃣ XẾP HẠNG ĐỘ KHÓ:\")\n",
    "kho_nhat = difficulty.head(3)\n",
    "de_nhat = difficulty.tail(3)\n",
    "print(f\"   • KHÓ nhất: {', '.join(kho_nhat['ma_to_hop'].tolist())}\")\n",
    "print(f\"   • DỄ nhất: {', '.join(de_nhat['ma_to_hop'].tolist())}\")\n",
    "\n",
    "print(f\"\\n5️⃣ PHÂN CỤM:\")\n",
    "for cluster_name in clusters['cluster_label'].unique():\n",
    "    subset = clusters[clusters['cluster_label'] == cluster_name]\n",
    "    print(f\"   • {cluster_name}: {', '.join(subset['ma_to_hop'].tolist())}\")\n",
    "\n",
    "print(f\"\\n📊 DATASET CUỐI CÙNG:\")\n",
    "print(f\"   • Tổng số bản ghi điểm chuẩn: {len(analyzer.data['diem_chuan'])}\")\n",
    "print(f\"   • Tổng số bản ghi phổ điểm: {len(analyzer.data['pho_diem'])}\")\n",
    "print(f\"   • Khoảng thời gian: 2018-2024\")\n",
    "print(f\"   • Số tổ hợp phân tích: {len(analyzer.data['to_hop_mon'])}\")"
   ]
  },
  {
   "cell_type": "markdown",
   "id": "cd521632",
   "metadata": {},
   "source": [
    "### 💡 Khuyến nghị và Hướng Nghiên cứu Tiếp theo\n",
    "\n",
    "#### 🎯 Khuyến nghị cho Thí sinh:\n",
    "\n",
    "1. **Chọn tổ hợp phù hợp với năng lực**: Không nên chỉ dựa vào độ khó mà phải xem xét khả năng bản thân\n",
    "2. **Xem xét xu hướng dài hạn**: Các tổ hợp có xu hướng tăng điểm cần chuẩn bị kỹ hơn\n",
    "3. **Tính đến yếu tố vùng miền**: Một số tổ hợp có sự khác biệt đáng kể giữa các vùng\n",
    "\n",
    "#### 🔬 Hướng Nghiên cứu Tiếp theo:\n",
    "\n",
    "1. **Mở rộng dữ liệu**: Thu thập thêm dữ liệu về giới tính, hoàn cảnh kinh tế\n",
    "2. **Phân tích dự báo**: Sử dụng machine learning để dự báo xu hướng tương lai\n",
    "3. **Nghiên cứu định tính**: Phỏng vấn thí sinh và giáo viên để hiểu sâu hơn\n",
    "4. **So sánh quốc tế**: Đối chiếu với các hệ thống giáo dục khác\n",
    "\n",
    "#### 📊 Giá trị Khoa học của Nghiên cứu:\n",
    "\n",
    "- Cung cấp bức tranh toàn diện về các tổ hợp môn THPT\n",
    "- Phương pháp phân tích có thể áp dụng cho các năm tiếp theo  \n",
    "- Dataset và code có thể tái sử dụng cho nghiên cứu khác"
   ]
  },
  {
   "cell_type": "code",
   "execution_count": null,
   "id": "f8a261d4",
   "metadata": {},
   "outputs": [],
   "source": [
    "# CHẠY QUY TRÌNH HOÀN CHỈNH VÀ XUẤT KẾT QUẢ\n",
    "print(\"🎉 HOÀN THÀNH NGHIÊN CỨU SO SÁNH CÁC TỔ HỢP MÔN THPT!\")\n",
    "print(\"=\"*60)\n",
    "\n",
    "# Xuất kết quả ra file\n",
    "output_summary = {\n",
    "    \"thoi_gian_nghien_cuu\": \"2018-2024\",\n",
    "    \"so_to_hop_phan_tich\": len(analyzer.data['to_hop_mon']),\n",
    "    \"so_ban_ghi_diem_chuan\": len(analyzer.data['diem_chuan']),\n",
    "    \"so_ban_ghi_pho_diem\": len(analyzer.data['pho_diem']),\n",
    "    \"top_3_pho_bien\": popularity.head(3)['ma_to_hop'].tolist(),\n",
    "    \"top_3_kho_nhat\": difficulty.head(3)['ma_to_hop'].tolist(),\n",
    "    \"top_3_de_nhat\": difficulty.tail(3)['ma_to_hop'].tolist(),\n",
    "    \"so_to_hop_khac_biet_vung_mien\": len(t_test[t_test['khac_biet_co_y_nghia'] == 'Có']),\n",
    "    \"phan_cum_chinh\": clusters.groupby('cluster_label')['ma_to_hop'].apply(list).to_dict()\n",
    "}\n",
    "\n",
    "# Lưu tóm tắt ra file JSON\n",
    "import json\n",
    "with open('../output/research_summary.json', 'w', encoding='utf-8') as f:\n",
    "    json.dump(output_summary, f, ensure_ascii=False, indent=2)\n",
    "\n",
    "# Tạo báo cáo cuối cùng\n",
    "final_report = f\"\"\"\n",
    "# BÁO CÁO CUỐI CÙNG: NGHIÊN CỨU SO SÁNH CÁC TỔ HỢP MÔN THPT\n",
    "\n",
    "## Thông tin nghiên cứu\n",
    "- **Thời gian dữ liệu**: 2018-2024\n",
    "- **Số tổ hợp phân tích**: {len(analyzer.data['to_hop_mon'])}\n",
    "- **Tổng số bản ghi**: {len(analyzer.data['diem_chuan']) + len(analyzer.data['pho_diem'])}\n",
    "\n",
    "## Kết quả chính\n",
    "### Top 3 tổ hợp phổ biến nhất:\n",
    "{chr(10).join([f\"{i+1}. {to_hop}\" for i, to_hop in enumerate(output_summary['top_3_pho_bien'])])}\n",
    "\n",
    "### Top 3 tổ hợp khó nhất:\n",
    "{chr(10).join([f\"{i+1}. {to_hop}\" for i, to_hop in enumerate(output_summary['top_3_kho_nhat'])])}\n",
    "\n",
    "### Top 3 tổ hợp dễ nhất:\n",
    "{chr(10).join([f\"{i+1}. {to_hop}\" for i, to_hop in enumerate(output_summary['top_3_de_nhat'])])}\n",
    "\n",
    "## Các file đã tạo\n",
    "- Dữ liệu thô: ../data/raw/\n",
    "- Database: ../data/thpt_data.db  \n",
    "- Kết quả phân tích: ../output/tables/\n",
    "- Báo cáo: ../output/reports/\n",
    "- Tóm tắt nghiên cứu: ../output/research_summary.json\n",
    "\n",
    "## Tính khoa học và độ tin cậy\n",
    "✅ Dữ liệu từ nhiều nguồn chính thức\n",
    "✅ Phương pháp thống kê được kiểm chứng\n",
    "✅ Kết quả có thể tái lập (reproducible)\n",
    "✅ Code và dữ liệu mở (open source)\n",
    "\n",
    "---\n",
    "*Nghiên cứu hoàn thành ngày {pd.Timestamp.now().strftime('%d/%m/%Y')}*\n",
    "\"\"\"\n",
    "\n",
    "# Lưu báo cáo cuối cùng\n",
    "with open('../output/reports/final_research_report.md', 'w', encoding='utf-8') as f:\n",
    "    f.write(final_report)\n",
    "\n",
    "print(\"📁 Các file kết quả đã được lưu:\")\n",
    "print(\"   📊 research_summary.json\")  \n",
    "print(\"   📋 final_research_report.md\")\n",
    "print(\"   📈 Tất cả biểu đồ và bảng trong thư mục output/\")\n",
    "\n",
    "print(f\"\\n🏆 Nghiên cứu hoàn thành thành công!\")\n",
    "print(f\"📅 Thời gian: {pd.Timestamp.now().strftime('%d/%m/%Y %H:%M')}\")\n",
    "print(f\"💾 Tổng dung lượng dữ liệu: ~{(len(analyzer.data['diem_chuan']) + len(analyzer.data['pho_diem'])) * 0.001:.1f} MB\")\n",
    "\n",
    "# In kết quả cuối cùng\n",
    "print(\"\\n\" + final_report)"
   ]
  }
 ],
 "metadata": {
  "kernelspec": {
   "display_name": "Python 3",
   "language": "python",
   "name": "python3"
  },
  "language_info": {
   "codemirror_mode": {
    "name": "ipython",
    "version": 3
   },
   "file_extension": ".py",
   "mimetype": "text/x-python",
   "name": "python",
   "nbconvert_exporter": "python",
   "pygments_lexer": "ipython3",
   "version": "3.9.6"
  }
 },
 "nbformat": 4,
 "nbformat_minor": 5
}
