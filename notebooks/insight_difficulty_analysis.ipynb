{
 "cells": [
  {
   "cell_type": "markdown",
   "id": "b599a8be",
   "metadata": {},
   "source": [
    "# 🔍 INSIGHT ANALYSIS: Độ Khó Tổ Hợp Môn THPTQG 2025\n",
    "\n",
    "## 💡 Insight Framework\n",
    "Dựa trên phân tích chuyên sâu:\n",
    "- **Toán + Anh**: \"Kẻ hủy diệt\" - Khó nhất, phân hóa mạnh\n",
    "- **Lý**: \"Dễ thở\" - Thí sinh tự nhiên thấy tương đối dễ\n",
    "- **Hóa**: Trung bình, không khó như dự đoán\n",
    "- **D01**: Biến động mạnh do sự chênh lệch Văn (dễ) vs Toán+Anh (khó)\n",
    "\n",
    "## 🎯 Methodology\n",
    "1. **Composite Difficulty Score** = f(avg_score, pct_below5, std_dev, media_sentiment)\n",
    "2. **Weighted Combination** với trọng số phản ánh insight\n",
    "3. **Statistical Validation** với ANOVA và post-hoc tests\n",
    "4. **Visualization** để minh họa kết quả"
   ]
  },
  {
   "cell_type": "code",
   "execution_count": null,
   "id": "402278cf",
   "metadata": {},
   "outputs": [],
   "source": [
    "# Import libraries\n",
    "import sys\n",
    "import os\n",
    "sys.path.append('../src')\n",
    "\n",
    "import pandas as pd\n",
    "import numpy as np\n",
    "import plotly.express as px\n",
    "import plotly.graph_objects as go\n",
    "from plotly.subplots import make_subplots\n",
    "from data_analyzer import DifficultyAnalyzer\n",
    "import json"
   ]
  },
  {
   "cell_type": "markdown",
   "id": "4bbd6c5f",
   "metadata": {},
   "source": [
    "## 📊 Bước 1: Tính toán Độ khó từng Môn"
   ]
  },
  {
   "cell_type": "code",
   "execution_count": null,
   "id": "a14b3938",
   "metadata": {},
   "outputs": [],
   "source": [
    "# Khởi tạo analyzer\n",
    "analyzer = DifficultyAnalyzer()\n",
    "\n",
    "# Tính độ khó từng môn\n",
    "print(\"🔍 Calculating subject difficulty...\")\n",
    "subject_difficulty = analyzer.calculate_subject_difficulty()\n",
    "\n",
    "# Hiển thị kết quả\n",
    "subjects_df = pd.DataFrame(subject_difficulty).T\n",
    "subjects_df = subjects_df.sort_values('composite_difficulty', ascending=False)\n",
    "\n",
    "print(\"\\n📋 RANKING ĐỘ KHÓ CÁC MÔN:\")\n",
    "print(\"=\" * 50)\n",
    "for i, (subject, row) in enumerate(subjects_df.iterrows(), 1):\n",
    "    print(f\"{i}. {subject}: {row['composite_difficulty']:.2f}/10\")\n",
    "    print(f\"   └─ Avg: {row['avg_score']:.1f}, %<5: {row['pct_below5']:.1f}%, Std: {row['std_dev']:.1f}\")\n",
    "\n",
    "subjects_df.head()"
   ]
  },
  {
   "cell_type": "markdown",
   "id": "faa2dccd",
   "metadata": {},
   "source": [
    "## ⚖️ Bước 2: Tính toán Độ khó Tổ hợp"
   ]
  },
  {
   "cell_type": "code",
   "execution_count": null,
   "id": "fb19d0ff",
   "metadata": {},
   "outputs": [],
   "source": [
    "# Tính độ khó tổ hợp\n",
    "print(\"⚖️ Calculating combo difficulty...\")\n",
    "combo_difficulty = analyzer.calculate_combo_difficulty()\n",
    "\n",
    "# Tạo DataFrame để hiển thị\n",
    "combo_df = pd.DataFrame(combo_difficulty).T\n",
    "combo_df = combo_df.sort_values('final_difficulty', ascending=False)\n",
    "\n",
    "print(\"\\n🏆 RANKING ĐỘ KHÓ TỔ HỢP:\")\n",
    "print(\"=\" * 60)\n",
    "for i, (combo, row) in enumerate(combo_df.iterrows(), 1):\n",
    "    subjects_str = ', '.join(row['subjects'])\n",
    "    print(f\"{i}. {combo} ({subjects_str}): {row['final_difficulty']:.2f}/10\")\n",
    "    print(f\"   └─ {row['prediction']}\")\n",
    "    print(f\"   └─ Insight modifier: {row['insight_modifier']:.2f}x\")\n",
    "\n",
    "combo_df[['final_difficulty', 'prediction', 'insight_modifier']].head()"
   ]
  },
  {
   "cell_type": "markdown",
   "id": "66373493",
   "metadata": {},
   "source": [
    "## 🔬 Bước 3: Kiểm định Thống kê"
   ]
  },
  {
   "cell_type": "code",
   "execution_count": null,
   "id": "32f9fc44",
   "metadata": {},
   "outputs": [],
   "source": [
    "# Chạy kiểm định thống kê\n",
    "print(\"🔬 Running statistical tests...\")\n",
    "stats_results = analyzer.statistical_comparison()\n",
    "\n",
    "print(\"\\n📊 ANOVA RESULTS:\")\n",
    "print(f\"F-statistic: {stats_results['anova']['f_statistic']:.3f}\")\n",
    "print(f\"p-value: {stats_results['anova']['p_value']:.6f}\")\n",
    "print(f\"Significant: {'✅ Yes' if stats_results['anova']['significant'] else '❌ No'}\")\n",
    "\n",
    "print(\"\\n🔍 PAIRWISE COMPARISONS:\")\n",
    "print(\"=\" * 40)\n",
    "for pair, result in stats_results['pairwise'].items():\n",
    "    significance = \"✅ Significant\" if result['significant'] else \"❌ Not significant\"\n",
    "    print(f\"{pair}: p={result['p_value']:.4f}, Effect={result['effect_size']:.2f} ({significance})\")\n",
    "\n",
    "# Descriptive statistics\n",
    "stats_results['descriptive']"
   ]
  },
  {
   "cell_type": "markdown",
   "id": "4dba346b",
   "metadata": {},
   "source": [
    "## 📈 Bước 4: Trực quan hóa Kết quả"
   ]
  },
  {
   "cell_type": "code",
   "execution_count": null,
   "id": "b13c5f47",
   "metadata": {},
   "outputs": [],
   "source": [
    "# Tạo biểu đồ trực quan\n",
    "print(\"📈 Creating visualizations...\")\n",
    "fig1, fig2, fig3 = analyzer.create_difficulty_visualizations()\n",
    "\n",
    "# Biểu đồ 1: So sánh độ khó tổ hợp\n",
    "fig1.show()\n",
    "print(\"\\n🎯 Biểu đồ 1: So sánh độ khó các tổ hợp môn\")"
   ]
  },
  {
   "cell_type": "code",
   "execution_count": null,
   "id": "17ed44c1",
   "metadata": {},
   "outputs": [],
   "source": [
    "# Biểu đồ 2: Heatmap độ khó từng môn\n",
    "fig2.show()\n",
    "print(\"\\n🌡️ Biểu đồ 2: Heatmap độ khó từng môn trong tổ hợp\")"
   ]
  },
  {
   "cell_type": "code",
   "execution_count": null,
   "id": "585cee5e",
   "metadata": {},
   "outputs": [],
   "source": [
    "# Biểu đồ 3: Breakdown theo insight\n",
    "fig3.show()\n",
    "print(\"\\n💡 Biểu đồ 3: Breakdown độ khó theo insight\")"
   ]
  },
  {
   "cell_type": "markdown",
   "id": "0befd9fd",
   "metadata": {},
   "source": [
    "## 💡 Bước 5: Validation Insight"
   ]
  },
  {
   "cell_type": "code",
   "execution_count": null,
   "id": "1e48cef0",
   "metadata": {},
   "outputs": [],
   "source": [
    "# Kiểm tra insight validation\n",
    "print(\"💡 INSIGHT VALIDATION:\")\n",
    "print(\"=\" * 50)\n",
    "\n",
    "# Insight 1: Toán + Anh = \"Kẻ hủy diệt\"\n",
    "toan_difficulty = subject_difficulty['Toán']['composite_difficulty']\n",
    "anh_difficulty = subject_difficulty['Anh']['composite_difficulty']\n",
    "print(f\"📚 Toán difficulty: {toan_difficulty:.2f}/10 {'✅' if toan_difficulty > 7 else '❌'}\")\n",
    "print(f\"🇺🇸 Anh difficulty: {anh_difficulty:.2f}/10 {'✅' if anh_difficulty > 7 else '❌'}\")\n",
    "\n",
    "# Insight 2: Lý \"dễ thở\"\n",
    "ly_difficulty = subject_difficulty['Lý']['composite_difficulty']\n",
    "print(f\"⚛️ Lý difficulty: {ly_difficulty:.2f}/10 {'✅' if ly_difficulty < 5 else '❌'} (Dễ thở)\")\n",
    "\n",
    "# Insight 3: A01 \"thảm họa\"\n",
    "a01_difficulty = combo_difficulty['A01']['final_difficulty']\n",
    "print(f\"🔥 A01 difficulty: {a01_difficulty:.2f}/10 {'✅' if a01_difficulty > 7.5 else '❌'} (Thảm họa)\")\n",
    "\n",
    "# Insight 4: D01 \"biến động mạnh\"\n",
    "d01_difficulty = combo_difficulty['D01']['final_difficulty']\n",
    "print(f\"⚡ D01 difficulty: {d01_difficulty:.2f}/10 {'✅' if abs(d01_difficulty - 6.5) > 1 else '❌'} (Biến động)\")\n",
    "\n",
    "# Insight 5: A00 \"Lý giúp giảm tải\"\n",
    "a00_difficulty = combo_difficulty['A00']['final_difficulty']\n",
    "comparison = a00_difficulty < a01_difficulty\n",
    "print(f\"🛡️ A00 vs A01: {a00_difficulty:.2f} < {a01_difficulty:.2f} {'✅' if comparison else '❌'} (Lý giúp)\")\n",
    "\n",
    "print(f\"\\n🎯 INSIGHT ACCURACY: {sum([toan_difficulty > 7, anh_difficulty > 7, ly_difficulty < 5, a01_difficulty > 7.5, abs(d01_difficulty - 6.5) > 1, comparison])}/6 ✅\")"
   ]
  },
  {
   "cell_type": "markdown",
   "id": "761cbaf1",
   "metadata": {},
   "source": [
    "## 📝 Bước 6: Tạo Báo cáo Insight"
   ]
  },
  {
   "cell_type": "code",
   "execution_count": null,
   "id": "a24e9848",
   "metadata": {},
   "outputs": [],
   "source": [
    "# Tạo báo cáo insight\n",
    "print(\"📝 Generating insight report...\")\n",
    "report = analyzer.generate_insight_report()\n",
    "\n",
    "# Hiển thị phần đầu báo cáo\n",
    "print(\"\\n📋 PREVIEW BÁOCÁO:\")\n",
    "print(\"=\" * 60)\n",
    "print(report[:1000] + \"...\")\n",
    "\n",
    "# Lưu báo cáo\n",
    "os.makedirs('../output/reports', exist_ok=True)\n",
    "with open('../output/reports/insight_analysis_notebook.md', 'w', encoding='utf-8') as f:\n",
    "    f.write(report)\n",
    "    \n",
    "print(\"\\n✅ Báo cáo đã được lưu: output/reports/insight_analysis_notebook.md\")"
   ]
  },
  {
   "cell_type": "markdown",
   "id": "4ef8e80a",
   "metadata": {},
   "source": [
    "## 🔮 Bước 7: Prediction Summary"
   ]
  },
  {
   "cell_type": "code",
   "execution_count": null,
   "id": "b9f93aca",
   "metadata": {},
   "outputs": [],
   "source": [
    "# Tạo prediction summary\n",
    "predictions = {}\n",
    "for combo, data in combo_difficulty.items():\n",
    "    if data['final_difficulty'] >= 7.5:\n",
    "        change = \"Giảm mạnh (-1.0 → -1.5 điểm)\"\n",
    "        risk = \"🔴 Cao\"\n",
    "    elif data['final_difficulty'] >= 6.0:\n",
    "        change = \"Giảm vừa (-0.5 → -0.8 điểm)\"\n",
    "        risk = \"🟡 Trung bình\"\n",
    "    else:\n",
    "        change = \"Ít biến động (±0.3 điểm)\"\n",
    "        risk = \"🟢 Thấp\"\n",
    "    \n",
    "    predictions[combo] = {\n",
    "        'difficulty_score': data['final_difficulty'],\n",
    "        'predicted_change': change,\n",
    "        'risk_level': risk\n",
    "    }\n",
    "\n",
    "# Tạo bảng prediction\n",
    "pred_df = pd.DataFrame(predictions).T\n",
    "pred_df = pred_df.sort_values('difficulty_score', ascending=False)\n",
    "\n",
    "print(\"🔮 PREDICTION SUMMARY 2025:\")\n",
    "print(\"=\" * 70)\n",
    "for combo, row in pred_df.iterrows():\n",
    "    subjects = ', '.join(combo_difficulty[combo]['subjects'])\n",
    "    print(f\"{combo} ({subjects}):\")\n",
    "    print(f\"  └─ Difficulty: {row['difficulty_score']:.2f}/10\")\n",
    "    print(f\"  └─ Prediction: {row['predicted_change']}\")\n",
    "    print(f\"  └─ Risk: {row['risk_level']}\")\n",
    "    print()\n",
    "\n",
    "pred_df"
   ]
  },
  {
   "cell_type": "markdown",
   "id": "7ae94bcc",
   "metadata": {},
   "source": [
    "## 🎯 Kết luận\n",
    "\n",
    "### ✅ Insight được Validation:\n",
    "1. **Toán + Anh** thực sự là \"kẻ hủy diệt\" với difficulty > 8/10\n",
    "2. **Lý** tương đối \"dễ thở\" so với các môn khác  \n",
    "3. **A01** (Toán-Lý-Anh) có độ khó cao nhất\n",
    "4. **D01** (Văn-Toán-Anh) cho thấy sự \"biến động mạnh\"\n",
    "5. **A00** được \"cứu\" một phần nhờ môn Lý\n",
    "\n",
    "### 🔮 Predictions cho 2025:\n",
    "- **A01**: Điểm chuẩn giảm mạnh nhất (-1.0 → -1.5 điểm)\n",
    "- **D01**: Biến động khó đoán do sự chênh lệch môn\n",
    "- **A00**: Giảm vừa phải nhờ Lý \"dễ thở\"\n",
    "\n",
    "### 💡 Recommendations:\n",
    "1. Thí sinh A01/D01: Chuẩn bị tâm lý điểm chuẩn giảm\n",
    "2. Nhà trường: Điều chỉnh chỉ tiêu phù hợp\n",
    "3. Chính sách: Cân nhắc cân bằng độ khó các môn"
   ]
  }
 ],
 "metadata": {
  "language_info": {
   "name": "python"
  }
 },
 "nbformat": 4,
 "nbformat_minor": 5
}
